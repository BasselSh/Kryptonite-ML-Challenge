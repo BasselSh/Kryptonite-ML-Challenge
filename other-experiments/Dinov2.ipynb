{
 "cells": [
  {
   "cell_type": "code",
   "execution_count": 1,
   "metadata": {
    "id": "j_0FkJzyrt6I"
   },
   "outputs": [],
   "source": [
    "import os\n",
    "\n",
    "import pandas as pd\n",
    "import numpy as np\n",
    "\n",
    "import torch\n",
    "import torch.nn as nn\n",
    "import torch.nn.functional as F\n",
    "from torch.utils.data import DataLoader, Dataset\n",
    "\n",
    "import matplotlib as mpl\n",
    "import matplotlib.pyplot as plt\n",
    "import matplotlib.ticker as ticker\n",
    "\n",
    "from sklearn.metrics.pairwise import cosine_similarity\n",
    "\n",
    "import seaborn as sns\n",
    "\n",
    "import PIL\n",
    "from PIL import Image\n",
    "\n",
    "import cv2\n",
    "import time\n",
    "\n",
    "import random\n",
    "\n",
    "#from deepface import DeepFace\n",
    "sns.set(style=\"white\")\n",
    "import time"
   ]
  },
  {
   "cell_type": "code",
   "execution_count": 2,
   "metadata": {},
   "outputs": [],
   "source": [
    "#настроим random_seed всего\n",
    "seed_num = 13\n",
    "torch.manual_seed(seed_num)\n",
    "torch.cuda.manual_seed(seed_num)\n",
    "torch.cuda.manual_seed_all(seed_num)\n",
    "torch.use_deterministic_algorithms(True) # do not work in collab\n",
    "np.random.seed(seed_num)\n",
    "\n",
    "import torch.backends.cudnn\n",
    "torch.backends.cudnn.benchmark = False\n",
    "torch.backends.cudnn.deterministic = True # do not work in collab"
   ]
  },
  {
   "cell_type": "code",
   "execution_count": 3,
   "metadata": {},
   "outputs": [],
   "source": [
    "project_path = r'F:\\Codenrock\\Kryptonite'\n",
    "image_path = r'F:\\Codenrock\\Kryptonite\\data\\train\\images'"
   ]
  },
  {
   "cell_type": "markdown",
   "metadata": {},
   "source": [
    "##### Try DinoV2"
   ]
  },
  {
   "cell_type": "code",
   "execution_count": 5,
   "metadata": {
    "colab": {
     "base_uri": "https://localhost:8080/"
    },
    "id": "wcgyKsjf7rJS",
    "outputId": "d8d05aaa-8e0d-4e12-ea0e-38b305be14bf"
   },
   "outputs": [
    {
     "name": "stderr",
     "output_type": "stream",
     "text": [
      "Using cache found in C:\\Users\\serge/.cache\\torch\\hub\\facebookresearch_dinov2_main\n",
      "C:\\Users\\serge/.cache\\torch\\hub\\facebookresearch_dinov2_main\\dinov2\\layers\\swiglu_ffn.py:51: UserWarning: xFormers is not available (SwiGLU)\n",
      "  warnings.warn(\"xFormers is not available (SwiGLU)\")\n",
      "C:\\Users\\serge/.cache\\torch\\hub\\facebookresearch_dinov2_main\\dinov2\\layers\\attention.py:33: UserWarning: xFormers is not available (Attention)\n",
      "  warnings.warn(\"xFormers is not available (Attention)\")\n",
      "C:\\Users\\serge/.cache\\torch\\hub\\facebookresearch_dinov2_main\\dinov2\\layers\\block.py:40: UserWarning: xFormers is not available (Block)\n",
      "  warnings.warn(\"xFormers is not available (Block)\")\n"
     ]
    },
    {
     "data": {
      "text/plain": [
       "DinoVisionTransformer(\n",
       "  (patch_embed): PatchEmbed(\n",
       "    (proj): Conv2d(3, 384, kernel_size=(14, 14), stride=(14, 14))\n",
       "    (norm): Identity()\n",
       "  )\n",
       "  (blocks): ModuleList(\n",
       "    (0-11): 12 x NestedTensorBlock(\n",
       "      (norm1): LayerNorm((384,), eps=1e-06, elementwise_affine=True)\n",
       "      (attn): MemEffAttention(\n",
       "        (qkv): Linear(in_features=384, out_features=1152, bias=True)\n",
       "        (attn_drop): Dropout(p=0.0, inplace=False)\n",
       "        (proj): Linear(in_features=384, out_features=384, bias=True)\n",
       "        (proj_drop): Dropout(p=0.0, inplace=False)\n",
       "      )\n",
       "      (ls1): LayerScale()\n",
       "      (drop_path1): Identity()\n",
       "      (norm2): LayerNorm((384,), eps=1e-06, elementwise_affine=True)\n",
       "      (mlp): Mlp(\n",
       "        (fc1): Linear(in_features=384, out_features=1536, bias=True)\n",
       "        (act): GELU(approximate='none')\n",
       "        (fc2): Linear(in_features=1536, out_features=384, bias=True)\n",
       "        (drop): Dropout(p=0.0, inplace=False)\n",
       "      )\n",
       "      (ls2): LayerScale()\n",
       "      (drop_path2): Identity()\n",
       "    )\n",
       "  )\n",
       "  (norm): LayerNorm((384,), eps=1e-06, elementwise_affine=True)\n",
       "  (head): Identity()\n",
       ")"
      ]
     },
     "execution_count": 5,
     "metadata": {},
     "output_type": "execute_result"
    }
   ],
   "source": [
    "import torch\n",
    "\n",
    "# DINOv2\n",
    "dinov2_vits14 = torch.hub.load('facebookresearch/dinov2', 'dinov2_vits14')\n",
    "dinov2_vits14"
   ]
  },
  {
   "cell_type": "code",
   "execution_count": 10,
   "metadata": {},
   "outputs": [],
   "source": [
    "import torchvision.transforms as transforms\n",
    "\n",
    "image_transforms = transforms.Compose(\n",
    "    [\n",
    "        transforms.Resize((224, 224)),\n",
    "        transforms.ToTensor(),\n",
    "        transforms.Normalize(mean=[0.485, 0.456, 0.406], std=[0.229, 0.224, 0.225]),\n",
    "    ]\n",
    ")"
   ]
  },
  {
   "cell_type": "code",
   "execution_count": 11,
   "metadata": {},
   "outputs": [
    {
     "data": {
      "text/plain": [
       "'cuda'"
      ]
     },
     "execution_count": 11,
     "metadata": {},
     "output_type": "execute_result"
    }
   ],
   "source": [
    "device = 'cuda' if torch.cuda.is_available() else 'cpu'\n",
    "device"
   ]
  },
  {
   "cell_type": "code",
   "execution_count": 14,
   "metadata": {},
   "outputs": [
    {
     "data": {
      "text/plain": [
       "DinoVisionTransformer(\n",
       "  (patch_embed): PatchEmbed(\n",
       "    (proj): Conv2d(3, 384, kernel_size=(14, 14), stride=(14, 14))\n",
       "    (norm): Identity()\n",
       "  )\n",
       "  (blocks): ModuleList(\n",
       "    (0-11): 12 x NestedTensorBlock(\n",
       "      (norm1): LayerNorm((384,), eps=1e-06, elementwise_affine=True)\n",
       "      (attn): MemEffAttention(\n",
       "        (qkv): Linear(in_features=384, out_features=1152, bias=True)\n",
       "        (attn_drop): Dropout(p=0.0, inplace=False)\n",
       "        (proj): Linear(in_features=384, out_features=384, bias=True)\n",
       "        (proj_drop): Dropout(p=0.0, inplace=False)\n",
       "      )\n",
       "      (ls1): LayerScale()\n",
       "      (drop_path1): Identity()\n",
       "      (norm2): LayerNorm((384,), eps=1e-06, elementwise_affine=True)\n",
       "      (mlp): Mlp(\n",
       "        (fc1): Linear(in_features=384, out_features=1536, bias=True)\n",
       "        (act): GELU(approximate='none')\n",
       "        (fc2): Linear(in_features=1536, out_features=384, bias=True)\n",
       "        (drop): Dropout(p=0.0, inplace=False)\n",
       "      )\n",
       "      (ls2): LayerScale()\n",
       "      (drop_path2): Identity()\n",
       "    )\n",
       "  )\n",
       "  (norm): LayerNorm((384,), eps=1e-06, elementwise_affine=True)\n",
       "  (head): Identity()\n",
       ")"
      ]
     },
     "execution_count": 14,
     "metadata": {},
     "output_type": "execute_result"
    }
   ],
   "source": [
    "dinov2_vits14.to(device)\n",
    "dinov2_vits14.eval()"
   ]
  },
  {
   "cell_type": "code",
   "execution_count": 16,
   "metadata": {},
   "outputs": [],
   "source": [
    "# Function to extract features from an image\n",
    "def extract_features(image):\n",
    "    image_tensor = image_transforms(image).unsqueeze(0).to(device)\n",
    "    with torch.no_grad():\n",
    "        features = dinov2_vits14(image_tensor).float()\n",
    "    return features"
   ]
  },
  {
   "cell_type": "code",
   "execution_count": 195,
   "metadata": {},
   "outputs": [
    {
     "data": {
      "text/plain": [
       "384"
      ]
     },
     "execution_count": 195,
     "metadata": {},
     "output_type": "execute_result"
    }
   ],
   "source": [
    "image = Image.open(os.path.join(image_path, '000000', '0.jpg'))\n",
    "features = extract_features(image)\n",
    "len(features[0])"
   ]
  },
  {
   "cell_type": "code",
   "execution_count": 197,
   "metadata": {},
   "outputs": [
    {
     "data": {
      "text/plain": [
       "384"
      ]
     },
     "execution_count": 197,
     "metadata": {},
     "output_type": "execute_result"
    }
   ],
   "source": [
    "image = Image.open(os.path.join(image_path, '000000', '3.jpg'))\n",
    "features_3 = extract_features(image)\n",
    "len(features_3[0])"
   ]
  },
  {
   "cell_type": "code",
   "execution_count": 201,
   "metadata": {},
   "outputs": [
    {
     "data": {
      "text/plain": [
       "array([[0.38299292]], dtype=float32)"
      ]
     },
     "execution_count": 201,
     "metadata": {},
     "output_type": "execute_result"
    }
   ],
   "source": [
    "from sklearn.metrics.pairwise import cosine_similarity\n",
    "\n",
    "cosine_similarity(features[0].cpu().detach().reshape(1, -1), features_3[0].cpu().detach().reshape(1, -1))"
   ]
  },
  {
   "cell_type": "code",
   "execution_count": 203,
   "metadata": {},
   "outputs": [
    {
     "data": {
      "text/plain": [
       "384"
      ]
     },
     "execution_count": 203,
     "metadata": {},
     "output_type": "execute_result"
    }
   ],
   "source": [
    "image = Image.open(os.path.join(image_path, '000000', '1.jpg'))\n",
    "features_1 = extract_features(image)\n",
    "len(features_1[0])"
   ]
  },
  {
   "cell_type": "code",
   "execution_count": 205,
   "metadata": {},
   "outputs": [
    {
     "data": {
      "text/plain": [
       "array([[0.5326899]], dtype=float32)"
      ]
     },
     "execution_count": 205,
     "metadata": {},
     "output_type": "execute_result"
    }
   ],
   "source": [
    "cosine_similarity(features[0].cpu().detach().reshape(1, -1), features_1[0].cpu().detach().reshape(1, -1))"
   ]
  },
  {
   "cell_type": "code",
   "execution_count": 207,
   "metadata": {},
   "outputs": [
    {
     "data": {
      "text/plain": [
       "384"
      ]
     },
     "execution_count": 207,
     "metadata": {},
     "output_type": "execute_result"
    }
   ],
   "source": [
    "image = Image.open(os.path.join(image_path, '000001', '1.jpg'))\n",
    "features_1_1 = extract_features(image)\n",
    "len(features_1_1[0])"
   ]
  },
  {
   "cell_type": "code",
   "execution_count": 209,
   "metadata": {},
   "outputs": [
    {
     "data": {
      "text/plain": [
       "array([[0.32376397]], dtype=float32)"
      ]
     },
     "execution_count": 209,
     "metadata": {},
     "output_type": "execute_result"
    }
   ],
   "source": [
    "cosine_similarity(features[0].cpu().detach().reshape(1, -1), features_1_1[0].cpu().detach().reshape(1, -1))"
   ]
  },
  {
   "cell_type": "markdown",
   "metadata": {},
   "source": [
    "### Check on train"
   ]
  },
  {
   "cell_type": "code",
   "execution_count": 11,
   "metadata": {},
   "outputs": [
    {
     "data": {
      "text/plain": [
       "'000005'"
      ]
     },
     "execution_count": 11,
     "metadata": {},
     "output_type": "execute_result"
    }
   ],
   "source": [
    "train_list = os.listdir(image_path)\n",
    "train_list[5]"
   ]
  },
  {
   "cell_type": "code",
   "execution_count": 250,
   "metadata": {},
   "outputs": [
    {
     "name": "stdout",
     "output_type": "stream",
     "text": [
      "14.49461555480957\n"
     ]
    }
   ],
   "source": [
    "dino_res = [] \n",
    "start_time = time.time() \n",
    "for i in range(100):\n",
    "    folder = str(train_list[i])\n",
    "    for img in os.listdir(os.path.join(image_path, folder)):   \n",
    "        image = Image.open(os.path.join(image_path, folder, img))\n",
    "        features = extract_features(image)\n",
    "        dino_res.append([folder, img, features.cpu().detach().numpy()[0]])\n",
    "\n",
    "end_time = time.time()\n",
    "print(end_time - start_time)"
   ]
  },
  {
   "cell_type": "code",
   "execution_count": 251,
   "metadata": {},
   "outputs": [
    {
     "data": {
      "text/plain": [
       "['000000',\n",
       " '0.jpg',\n",
       " array([ 4.06040251e-01, -2.82562107e-01,  2.72536683e+00, -3.19815755e-01,\n",
       "         2.44818258e+00,  2.25224137e+00, -7.70664990e-01, -7.72158325e-01,\n",
       "        -3.84756267e-01, -1.52134073e+00,  3.08043694e+00, -3.01087439e-01,\n",
       "         1.06554532e+00,  1.82380307e+00,  1.74709022e-01,  7.59059563e-02,\n",
       "        -3.81554365e-01,  3.59395194e+00, -6.66481435e-01,  3.21309757e+00,\n",
       "         1.83832240e+00, -7.29189932e-01, -4.29921436e+00,  2.24033054e-02,\n",
       "        -2.57733274e+00,  2.24134707e+00,  3.54285419e-01, -1.80264699e+00,\n",
       "         9.48821425e-01, -3.20933390e+00, -1.21562850e+00, -9.29967284e-01,\n",
       "        -3.24352312e+00, -1.28124022e+00, -2.14545822e+00,  4.92366123e+00,\n",
       "        -3.77683163e+00, -5.06840527e-01, -3.84781301e-01,  2.58617687e+00,\n",
       "        -1.82457304e+00, -1.83615375e+00, -5.14317334e-01, -4.72749376e+00,\n",
       "        -1.87857556e+00,  3.79930049e-01,  6.00710034e-01,  9.59362447e-01,\n",
       "        -2.34063077e+00, -1.70901990e+00, -4.28695536e+00, -3.50667977e+00,\n",
       "         1.02697551e+00, -7.71934912e-02, -2.41795611e+00,  1.59544647e+00,\n",
       "         3.85769343e+00, -4.04532480e+00, -3.85586858e-01,  2.64272690e-01,\n",
       "        -2.54387438e-01,  1.44439113e+00,  3.05328083e+00, -3.03890610e+00,\n",
       "         1.14111662e+00, -5.39084244e+00,  1.05970848e+00,  2.78074265e+00,\n",
       "        -4.71621084e+00, -1.03630960e+00, -1.39934754e+00,  1.96762770e-01,\n",
       "         4.23864985e+00,  4.89627630e-01,  5.03622437e+00, -1.47653389e+00,\n",
       "        -9.26927149e-01, -3.67382479e+00, -2.38524228e-02, -6.19102895e-01,\n",
       "         1.70564246e+00,  2.48891854e+00,  3.10660267e+00,  1.64165246e+00,\n",
       "        -2.01380444e+00, -2.79041457e+00,  1.52463391e-01, -1.03970790e+00,\n",
       "        -2.76912618e+00, -2.08224535e+00, -5.50012016e+00, -5.94007745e-02,\n",
       "         8.89819622e-01, -6.36219680e-02, -5.13596773e-01,  2.26098490e+00,\n",
       "        -3.77737975e+00, -2.81284511e-01,  1.75415170e+00, -4.30849886e+00,\n",
       "         4.04849529e+00,  2.20737624e+00, -1.49780780e-01,  4.61505604e+00,\n",
       "         4.33328199e+00, -1.70546031e+00, -3.42547631e+00, -1.48628712e-01,\n",
       "        -3.37966371e+00,  1.70826280e+00, -3.16292286e-01, -9.67078865e-01,\n",
       "         3.30923408e-01, -2.64143157e+00,  2.28466415e+00,  3.41246438e+00,\n",
       "         4.70870066e+00,  4.69949841e-01,  3.09952283e+00,  1.68754220e+00,\n",
       "        -2.30588269e+00, -5.01102507e-01,  1.53305665e-01,  1.84085083e+00,\n",
       "         3.51031113e+00,  1.19221278e-01,  3.40582705e+00,  3.84156275e+00,\n",
       "        -1.26820850e+00,  9.24424648e-01, -3.14297295e+00, -2.48667419e-01,\n",
       "        -1.64560497e+00, -8.89502823e-01, -9.37465951e-02, -1.91151470e-01,\n",
       "        -3.25334144e+00,  1.93907845e+00, -5.65611243e-01, -3.76431680e+00,\n",
       "         4.09123212e-01,  3.07176638e+00, -1.17633671e-01,  3.91819882e+00,\n",
       "        -3.70354342e+00, -3.99056411e+00, -3.97951555e+00, -3.34787750e+00,\n",
       "         5.88766527e+00,  2.69294691e+00, -2.22729158e+00,  2.05064416e+00,\n",
       "         2.92496234e-01, -3.50889874e+00, -1.48054767e+00, -1.82017136e+00,\n",
       "        -6.88824117e-01,  2.84328413e+00,  7.09395409e-01, -2.84212136e+00,\n",
       "         3.80216527e+00,  1.54061630e-01, -1.61869264e+00, -1.73761207e-03,\n",
       "         3.51608014e+00, -3.09294438e+00,  3.06911111e+00, -9.13273573e-01,\n",
       "        -5.93683541e-01,  2.08228302e+00, -4.37214851e+00, -1.94504067e-01,\n",
       "        -2.56595159e+00, -2.01984262e+00, -1.24852872e+00,  8.95876706e-01,\n",
       "        -5.16175069e-02,  4.98591453e-01,  5.48852587e+00,  2.07340097e+00,\n",
       "        -1.17105937e+00,  1.00508976e+00,  6.30394161e-01, -1.44999647e+00,\n",
       "        -2.75593787e-01,  2.03621820e-01,  3.20081997e+00,  2.63649297e+00,\n",
       "         7.57803261e-01, -2.35667801e+00,  2.05447435e+00, -2.80095220e+00,\n",
       "         4.55546081e-01,  6.35231972e-01,  4.50749025e-02, -2.52889419e+00,\n",
       "         2.05299711e+00,  5.02376413e+00, -3.94626141e+00, -5.38117945e-01,\n",
       "         2.27408290e+00,  1.52391124e+00, -5.80779314e-01,  6.06940031e+00,\n",
       "        -3.53701901e+00, -3.19360471e+00,  2.40974355e+00,  2.01041245e+00,\n",
       "         1.86375761e+00,  9.89890277e-01,  4.86641377e-01,  3.26557755e+00,\n",
       "        -2.16992283e+00, -1.13474822e+00,  9.13762391e-01, -1.18003368e+00,\n",
       "         1.49485731e+00, -2.64474535e+00,  3.58442402e+00, -3.37895989e+00,\n",
       "         5.20186782e-01,  5.40127420e+00,  2.52332711e+00, -2.63224274e-01,\n",
       "        -3.81826329e+00, -1.01704526e+00, -2.31289601e+00, -5.08094609e-01,\n",
       "        -1.81317854e+00,  3.07955074e+00,  2.59206343e+00, -2.94905090e+00,\n",
       "         2.62917542e+00, -8.97494733e-01,  1.28822684e+00,  3.14697623e+00,\n",
       "         8.27562392e-01,  2.46239161e+00, -5.03202736e-01, -8.85057509e-01,\n",
       "        -1.13426149e+00, -3.57352901e+00,  1.13439155e+00, -9.00813937e-01,\n",
       "         5.92746556e-01,  1.19874680e+00,  4.19045591e+00, -1.39362037e+00,\n",
       "        -2.11288071e+00,  1.68637860e+00, -2.58714616e-01, -5.73593283e+00,\n",
       "         2.17000771e+00,  3.35322165e+00,  1.61505568e+00, -7.20018208e-01,\n",
       "         1.05682433e+00,  1.04145813e+00,  4.21515131e+00,  2.29629898e+00,\n",
       "         2.06880951e+00, -1.62849039e-01,  4.39060777e-01, -5.58553219e-01,\n",
       "        -1.07845080e+00, -4.07646298e-01, -7.19924346e-02,  9.85164225e-01,\n",
       "        -2.43704486e+00, -2.67939544e+00, -1.86017358e+00, -3.84245276e+00,\n",
       "        -6.44616067e-01,  3.73021036e-01, -2.26653743e+00, -1.53613672e-01,\n",
       "        -2.33951044e+00,  4.27190304e+00, -1.15114582e+00,  2.20408756e-02,\n",
       "         2.20640326e+00, -2.92166543e+00,  7.67607570e-01, -1.70786428e+00,\n",
       "        -1.14335871e+00, -4.66504097e+00, -2.68542504e+00, -1.98646533e+00,\n",
       "         8.83798838e-01,  3.17358041e+00, -2.40012074e+00, -3.69496298e+00,\n",
       "         9.37006548e-02, -1.36517477e+00, -4.88685250e-01,  2.49670222e-01,\n",
       "         1.49766457e+00, -1.91032243e+00, -1.72500253e+00,  2.32298896e-01,\n",
       "        -4.85299438e-01,  4.72464800e+00,  2.86907268e+00,  6.90581036e+00,\n",
       "        -1.51732361e+00,  3.03122211e+00,  1.12862885e+00, -2.46671605e+00,\n",
       "         1.81720591e+00, -2.13947225e+00,  3.83376551e+00, -2.60020161e+00,\n",
       "        -3.00151205e+00,  4.66817284e+00, -3.26395661e-01,  1.14647198e+00,\n",
       "        -9.97322023e-01, -2.94597840e+00,  1.14024305e+00,  1.37021255e+00,\n",
       "         3.87873745e+00,  9.21337962e-01,  1.12903357e+00, -3.19528043e-01,\n",
       "        -4.24711800e+00,  3.58055997e+00,  6.99662209e+00, -3.42946792e+00,\n",
       "         3.22953534e+00,  1.68741718e-01, -2.35925865e+00,  4.06278944e+00,\n",
       "        -3.44242477e+00, -2.25268722e-01, -3.96828175e+00, -1.25094205e-01,\n",
       "        -3.11048102e+00, -1.98694706e+00, -1.08013004e-01,  2.13097334e+00,\n",
       "         2.44233415e-01,  1.17357671e+00, -3.66636586e+00, -2.60098720e+00,\n",
       "        -2.47055602e+00, -1.77161753e+00,  1.76646113e-01,  3.44483741e-02,\n",
       "        -1.44925809e+00,  1.80099630e+00, -2.77470171e-01,  1.67193794e+00,\n",
       "         7.40212619e-01,  1.39019907e+00, -4.22939330e-01,  4.97744948e-01,\n",
       "        -6.40656590e-01, -2.22798705e+00,  4.93794060e+00,  1.38482317e-01,\n",
       "        -2.48207021e+00,  2.90072608e+00, -1.61403105e-01, -4.13808107e+00,\n",
       "        -2.50220442e+00,  4.70121479e+00,  2.05098319e+00, -1.59921503e+00,\n",
       "         3.99027109e+00, -3.13236266e-01, -1.08734064e-01, -9.91425753e-01,\n",
       "         2.93866229e+00, -9.25529301e-01,  2.03338772e-01, -1.88148570e+00,\n",
       "        -7.38567263e-02,  5.53998768e-01,  4.48563993e-01, -2.65833378e+00,\n",
       "         8.03725123e-01, -3.06769133e+00,  4.36695719e+00,  2.69684601e+00],\n",
       "       dtype=float32)]"
      ]
     },
     "execution_count": 251,
     "metadata": {},
     "output_type": "execute_result"
    }
   ],
   "source": [
    "dino_res[0]"
   ]
  },
  {
   "cell_type": "code",
   "execution_count": 252,
   "metadata": {},
   "outputs": [
    {
     "data": {
      "text/html": [
       "<div>\n",
       "<style scoped>\n",
       "    .dataframe tbody tr th:only-of-type {\n",
       "        vertical-align: middle;\n",
       "    }\n",
       "\n",
       "    .dataframe tbody tr th {\n",
       "        vertical-align: top;\n",
       "    }\n",
       "\n",
       "    .dataframe thead th {\n",
       "        text-align: right;\n",
       "    }\n",
       "</style>\n",
       "<table border=\"1\" class=\"dataframe\">\n",
       "  <thead>\n",
       "    <tr style=\"text-align: right;\">\n",
       "      <th></th>\n",
       "      <th>folder</th>\n",
       "      <th>img</th>\n",
       "      <th>dino_res</th>\n",
       "    </tr>\n",
       "  </thead>\n",
       "  <tbody>\n",
       "    <tr>\n",
       "      <th>0</th>\n",
       "      <td>000000</td>\n",
       "      <td>0.jpg</td>\n",
       "      <td>[0.40604025, -0.2825621, 2.7253668, -0.3198157...</td>\n",
       "    </tr>\n",
       "    <tr>\n",
       "      <th>1</th>\n",
       "      <td>000000</td>\n",
       "      <td>1.jpg</td>\n",
       "      <td>[-0.4514499, -1.5732969, 1.5072427, -1.1402816...</td>\n",
       "    </tr>\n",
       "    <tr>\n",
       "      <th>2</th>\n",
       "      <td>000000</td>\n",
       "      <td>2.jpg</td>\n",
       "      <td>[0.5290648, -1.6426156, 4.183897, 4.511059, 0....</td>\n",
       "    </tr>\n",
       "    <tr>\n",
       "      <th>3</th>\n",
       "      <td>000000</td>\n",
       "      <td>3.jpg</td>\n",
       "      <td>[3.0183055, -2.3972485, 4.8457127, 0.72337306,...</td>\n",
       "    </tr>\n",
       "    <tr>\n",
       "      <th>4</th>\n",
       "      <td>000000</td>\n",
       "      <td>4.jpg</td>\n",
       "      <td>[-3.7036185, 0.21727978, 3.4040785, 1.3180584,...</td>\n",
       "    </tr>\n",
       "    <tr>\n",
       "      <th>...</th>\n",
       "      <td>...</td>\n",
       "      <td>...</td>\n",
       "      <td>...</td>\n",
       "    </tr>\n",
       "    <tr>\n",
       "      <th>977</th>\n",
       "      <td>000099</td>\n",
       "      <td>5.jpg</td>\n",
       "      <td>[3.5311913, -0.66300964, 4.5454984, 3.7563012,...</td>\n",
       "    </tr>\n",
       "    <tr>\n",
       "      <th>978</th>\n",
       "      <td>000099</td>\n",
       "      <td>6.jpg</td>\n",
       "      <td>[4.8436356, -0.5722234, 4.9047365, 2.6402385, ...</td>\n",
       "    </tr>\n",
       "    <tr>\n",
       "      <th>979</th>\n",
       "      <td>000099</td>\n",
       "      <td>7.jpg</td>\n",
       "      <td>[2.2608945, 0.34873235, 0.63394886, -3.5838182...</td>\n",
       "    </tr>\n",
       "    <tr>\n",
       "      <th>980</th>\n",
       "      <td>000099</td>\n",
       "      <td>8.jpg</td>\n",
       "      <td>[3.3726974, -1.9818227, 4.285077, 3.7897644, 2...</td>\n",
       "    </tr>\n",
       "    <tr>\n",
       "      <th>981</th>\n",
       "      <td>000099</td>\n",
       "      <td>9.jpg</td>\n",
       "      <td>[3.594822, -0.10638151, 5.096505, 0.53357923, ...</td>\n",
       "    </tr>\n",
       "  </tbody>\n",
       "</table>\n",
       "<p>982 rows × 3 columns</p>\n",
       "</div>"
      ],
      "text/plain": [
       "     folder    img                                           dino_res\n",
       "0    000000  0.jpg  [0.40604025, -0.2825621, 2.7253668, -0.3198157...\n",
       "1    000000  1.jpg  [-0.4514499, -1.5732969, 1.5072427, -1.1402816...\n",
       "2    000000  2.jpg  [0.5290648, -1.6426156, 4.183897, 4.511059, 0....\n",
       "3    000000  3.jpg  [3.0183055, -2.3972485, 4.8457127, 0.72337306,...\n",
       "4    000000  4.jpg  [-3.7036185, 0.21727978, 3.4040785, 1.3180584,...\n",
       "..      ...    ...                                                ...\n",
       "977  000099  5.jpg  [3.5311913, -0.66300964, 4.5454984, 3.7563012,...\n",
       "978  000099  6.jpg  [4.8436356, -0.5722234, 4.9047365, 2.6402385, ...\n",
       "979  000099  7.jpg  [2.2608945, 0.34873235, 0.63394886, -3.5838182...\n",
       "980  000099  8.jpg  [3.3726974, -1.9818227, 4.285077, 3.7897644, 2...\n",
       "981  000099  9.jpg  [3.594822, -0.10638151, 5.096505, 0.53357923, ...\n",
       "\n",
       "[982 rows x 3 columns]"
      ]
     },
     "execution_count": 252,
     "metadata": {},
     "output_type": "execute_result"
    }
   ],
   "source": [
    "dino_table = pd.DataFrame(dino_res, columns = ['folder', 'img', 'dino_res'])\n",
    "dino_table"
   ]
  },
  {
   "cell_type": "code",
   "execution_count": 22,
   "metadata": {},
   "outputs": [],
   "source": [
    "# open real/fake labels\n",
    "with open(os.path.join(project_path, 'data', 'train', 'meta.json'), 'r') as myfile:\n",
    "    data = myfile.read()\n",
    "\n",
    "# parse file\n",
    "meta = json.loads(data)"
   ]
  },
  {
   "cell_type": "code",
   "execution_count": 280,
   "metadata": {},
   "outputs": [],
   "source": [
    "dino_table_np = np.array(dino_table)"
   ]
  },
  {
   "cell_type": "code",
   "execution_count": 282,
   "metadata": {},
   "outputs": [],
   "source": [
    "emb_cos_sims = []\n",
    "\n",
    "for i in range(len(dino_table_np)):\n",
    "    img_1 = dino_table_np[i]\n",
    "    img_1_label = meta[img_1[0] + '/' + img_1[1]]\n",
    "    for j in range(len(dino_table_np)):\n",
    "        img_2 = dino_table_np[j]\n",
    "        img_2_label = meta[img_2[0] + '/' + img_2[1]]\n",
    "        dino_cos_sim = cosine_similarity(img_1[2].reshape(1, -1), img_2[2].reshape(1, -1))\n",
    "\n",
    "        if img_1[0] == img_2[0]:\n",
    "            id_label = 'same'\n",
    "        else:\n",
    "            id_label = 'other'\n",
    "        emb_cos_sims.append([img_1[0], img_1[1], img_1_label, img_2[0], img_2[1], img_2_label, id_label, dino_cos_sim[0][0]])"
   ]
  },
  {
   "cell_type": "code",
   "execution_count": 283,
   "metadata": {},
   "outputs": [
    {
     "data": {
      "text/html": [
       "<div>\n",
       "<style scoped>\n",
       "    .dataframe tbody tr th:only-of-type {\n",
       "        vertical-align: middle;\n",
       "    }\n",
       "\n",
       "    .dataframe tbody tr th {\n",
       "        vertical-align: top;\n",
       "    }\n",
       "\n",
       "    .dataframe thead th {\n",
       "        text-align: right;\n",
       "    }\n",
       "</style>\n",
       "<table border=\"1\" class=\"dataframe\">\n",
       "  <thead>\n",
       "    <tr style=\"text-align: right;\">\n",
       "      <th></th>\n",
       "      <th>folder_1</th>\n",
       "      <th>img_1</th>\n",
       "      <th>label_1</th>\n",
       "      <th>folder_2</th>\n",
       "      <th>img_2</th>\n",
       "      <th>label_2</th>\n",
       "      <th>id</th>\n",
       "      <th>dino_cos_sim</th>\n",
       "    </tr>\n",
       "  </thead>\n",
       "  <tbody>\n",
       "    <tr>\n",
       "      <th>0</th>\n",
       "      <td>000000</td>\n",
       "      <td>0.jpg</td>\n",
       "      <td>0</td>\n",
       "      <td>000000</td>\n",
       "      <td>0.jpg</td>\n",
       "      <td>0</td>\n",
       "      <td>same</td>\n",
       "      <td>1.000000</td>\n",
       "    </tr>\n",
       "    <tr>\n",
       "      <th>1</th>\n",
       "      <td>000000</td>\n",
       "      <td>0.jpg</td>\n",
       "      <td>0</td>\n",
       "      <td>000000</td>\n",
       "      <td>1.jpg</td>\n",
       "      <td>0</td>\n",
       "      <td>same</td>\n",
       "      <td>0.532690</td>\n",
       "    </tr>\n",
       "    <tr>\n",
       "      <th>2</th>\n",
       "      <td>000000</td>\n",
       "      <td>0.jpg</td>\n",
       "      <td>0</td>\n",
       "      <td>000000</td>\n",
       "      <td>2.jpg</td>\n",
       "      <td>1</td>\n",
       "      <td>same</td>\n",
       "      <td>0.328386</td>\n",
       "    </tr>\n",
       "    <tr>\n",
       "      <th>3</th>\n",
       "      <td>000000</td>\n",
       "      <td>0.jpg</td>\n",
       "      <td>0</td>\n",
       "      <td>000000</td>\n",
       "      <td>3.jpg</td>\n",
       "      <td>1</td>\n",
       "      <td>same</td>\n",
       "      <td>0.382993</td>\n",
       "    </tr>\n",
       "    <tr>\n",
       "      <th>4</th>\n",
       "      <td>000000</td>\n",
       "      <td>0.jpg</td>\n",
       "      <td>0</td>\n",
       "      <td>000000</td>\n",
       "      <td>4.jpg</td>\n",
       "      <td>0</td>\n",
       "      <td>same</td>\n",
       "      <td>0.674528</td>\n",
       "    </tr>\n",
       "    <tr>\n",
       "      <th>...</th>\n",
       "      <td>...</td>\n",
       "      <td>...</td>\n",
       "      <td>...</td>\n",
       "      <td>...</td>\n",
       "      <td>...</td>\n",
       "      <td>...</td>\n",
       "      <td>...</td>\n",
       "      <td>...</td>\n",
       "    </tr>\n",
       "    <tr>\n",
       "      <th>964319</th>\n",
       "      <td>000099</td>\n",
       "      <td>9.jpg</td>\n",
       "      <td>1</td>\n",
       "      <td>000099</td>\n",
       "      <td>5.jpg</td>\n",
       "      <td>1</td>\n",
       "      <td>same</td>\n",
       "      <td>0.394137</td>\n",
       "    </tr>\n",
       "    <tr>\n",
       "      <th>964320</th>\n",
       "      <td>000099</td>\n",
       "      <td>9.jpg</td>\n",
       "      <td>1</td>\n",
       "      <td>000099</td>\n",
       "      <td>6.jpg</td>\n",
       "      <td>1</td>\n",
       "      <td>same</td>\n",
       "      <td>0.593866</td>\n",
       "    </tr>\n",
       "    <tr>\n",
       "      <th>964321</th>\n",
       "      <td>000099</td>\n",
       "      <td>9.jpg</td>\n",
       "      <td>1</td>\n",
       "      <td>000099</td>\n",
       "      <td>7.jpg</td>\n",
       "      <td>0</td>\n",
       "      <td>same</td>\n",
       "      <td>0.037962</td>\n",
       "    </tr>\n",
       "    <tr>\n",
       "      <th>964322</th>\n",
       "      <td>000099</td>\n",
       "      <td>9.jpg</td>\n",
       "      <td>1</td>\n",
       "      <td>000099</td>\n",
       "      <td>8.jpg</td>\n",
       "      <td>1</td>\n",
       "      <td>same</td>\n",
       "      <td>0.530302</td>\n",
       "    </tr>\n",
       "    <tr>\n",
       "      <th>964323</th>\n",
       "      <td>000099</td>\n",
       "      <td>9.jpg</td>\n",
       "      <td>1</td>\n",
       "      <td>000099</td>\n",
       "      <td>9.jpg</td>\n",
       "      <td>1</td>\n",
       "      <td>same</td>\n",
       "      <td>1.000000</td>\n",
       "    </tr>\n",
       "  </tbody>\n",
       "</table>\n",
       "<p>964324 rows × 8 columns</p>\n",
       "</div>"
      ],
      "text/plain": [
       "       folder_1  img_1  label_1 folder_2  img_2  label_2    id  dino_cos_sim\n",
       "0        000000  0.jpg        0   000000  0.jpg        0  same      1.000000\n",
       "1        000000  0.jpg        0   000000  1.jpg        0  same      0.532690\n",
       "2        000000  0.jpg        0   000000  2.jpg        1  same      0.328386\n",
       "3        000000  0.jpg        0   000000  3.jpg        1  same      0.382993\n",
       "4        000000  0.jpg        0   000000  4.jpg        0  same      0.674528\n",
       "...         ...    ...      ...      ...    ...      ...   ...           ...\n",
       "964319   000099  9.jpg        1   000099  5.jpg        1  same      0.394137\n",
       "964320   000099  9.jpg        1   000099  6.jpg        1  same      0.593866\n",
       "964321   000099  9.jpg        1   000099  7.jpg        0  same      0.037962\n",
       "964322   000099  9.jpg        1   000099  8.jpg        1  same      0.530302\n",
       "964323   000099  9.jpg        1   000099  9.jpg        1  same      1.000000\n",
       "\n",
       "[964324 rows x 8 columns]"
      ]
     },
     "execution_count": 283,
     "metadata": {},
     "output_type": "execute_result"
    }
   ],
   "source": [
    "cos_sim_df = pd.DataFrame(emb_cos_sims, columns = ['folder_1', 'img_1', 'label_1', 'folder_2', 'img_2', 'label_2', 'id', 'dino_cos_sim'])\n",
    "cos_sim_df"
   ]
  },
  {
   "cell_type": "code",
   "execution_count": 288,
   "metadata": {},
   "outputs": [
    {
     "name": "stdout",
     "output_type": "stream",
     "text": [
      "Same person:  0.59913665\n",
      "Different person:  0.30194122\n",
      "Real vs Fake:  0.43516958\n"
     ]
    }
   ],
   "source": [
    "print('Same person: ', cos_sim_df.loc[(cos_sim_df['label_1'] == 0) & (cos_sim_df['label_2'] == 0) & (cos_sim_df['id'] == 'same')]['dino_cos_sim'].mean())\n",
    "print('Different person: ', cos_sim_df.loc[(cos_sim_df['label_1'] == 0) & (cos_sim_df['label_2'] == 0) & (cos_sim_df['id'] == 'other')]['dino_cos_sim'].mean())\n",
    "print('Real vs Fake: ', cos_sim_df.loc[(cos_sim_df['label_1'] == 0) & (cos_sim_df['label_2'] == 1) & (cos_sim_df['id'] == 'same')]['dino_cos_sim'].mean())"
   ]
  },
  {
   "cell_type": "markdown",
   "metadata": {},
   "source": [
    "##### Works faster, than previous models. Let's check quality on public_test submit"
   ]
  },
  {
   "cell_type": "markdown",
   "metadata": {},
   "source": [
    "### Submit"
   ]
  },
  {
   "cell_type": "code",
   "execution_count": 290,
   "metadata": {},
   "outputs": [
    {
     "data": {
      "text/plain": [
       "'00000000'"
      ]
     },
     "execution_count": 290,
     "metadata": {},
     "output_type": "execute_result"
    }
   ],
   "source": [
    "ssd_path = r'F:\\Codenrock\\Kryptonite\\data\\test_public\\images'\n",
    "ssd_list_dir = os.listdir(ssd_path)\n",
    "ssd_list_dir[0]"
   ]
  },
  {
   "cell_type": "code",
   "execution_count": 314,
   "metadata": {},
   "outputs": [
    {
     "name": "stdout",
     "output_type": "stream",
     "text": [
      "Current time: 00000000  0.279585599899292\n",
      "Current time: 00001000  38.48548436164856\n",
      "Current time: 00002000  38.366517066955566\n",
      "Current time: 00003000  38.90357327461243\n",
      "Current time: 00004000  39.366355657577515\n",
      "Current time: 00005000  38.773035764694214\n",
      "Current time: 00006000  39.41748666763306\n",
      "Current time: 00007000  39.48129391670227\n",
      "Current time: 00008000  38.89866518974304\n",
      "Current time: 00009000  39.34936261177063\n",
      "Current time: 00010000  39.401777029037476\n",
      "Current time: 00011000  39.64877891540527\n",
      "Current time: 00012000  40.166284799575806\n",
      "Current time: 00013000  39.84890556335449\n",
      "Current time: 00014000  40.83604693412781\n",
      "Current time: 00015000  40.97736191749573\n",
      "Current time: 00016000  40.41634654998779\n",
      "Current time: 00017000  41.818305015563965\n",
      "Current time: 00018000  40.96173334121704\n",
      "Current time: 00019000  41.24811673164368\n",
      "Current time: 00020000  42.48484539985657\n",
      "Current time: 00021000  42.301769495010376\n",
      "Current time: 00022000  42.152456521987915\n",
      "Current time: 00023000  41.53757333755493\n",
      "Current time: 00024000  42.27381229400635\n",
      "Current time: 00025000  42.33653736114502\n",
      "Current time: 00026000  43.21500372886658\n",
      "Current time: 00027000  44.35890316963196\n",
      "Current time: 00028000  42.952409505844116\n",
      "Current time: 00029000  44.50075554847717\n",
      "Current time: 00030000  44.077388286590576\n",
      "Current time: 00031000  43.85530948638916\n",
      "Current time: 00032000  45.56745743751526\n",
      "Current time: 00033000  44.038148403167725\n",
      "Current time: 00034000  44.38309907913208\n",
      "Current time: 00035000  46.08563446998596\n",
      "Current time: 00036000  44.54821968078613\n",
      "Current time: 00037000  45.14727544784546\n",
      "Current time: 00038000  44.804848194122314\n",
      "Current time: 00039000  45.17540144920349\n",
      "Current time: 00040000  45.24078989028931\n",
      "Current time: 00041000  45.7865777015686\n",
      "Current time: 00042000  46.478445529937744\n",
      "Current time: 00043000  46.781468629837036\n",
      "Current time: 00044000  46.78592920303345\n",
      "Current time: 00045000  46.271450996398926\n",
      "Current time: 00046000  46.67520356178284\n",
      "Current time: 00047000  47.03949451446533\n",
      "Current time: 00048000  46.92261981964111\n",
      "Current time: 00049000  46.973862409591675\n",
      "Current time: 00050000  47.41009545326233\n",
      "Current time: 00051000  46.514867544174194\n",
      "Current time: 00052000  46.42033290863037\n",
      "Current time: 00053000  46.67176628112793\n",
      "Current time: 00054000  47.68367600440979\n",
      "Current time: 00055000  48.656689405441284\n",
      "Current time: 00056000  49.20749258995056\n",
      "Current time: 00057000  48.106749534606934\n",
      "Current time: 00058000  50.3012809753418\n",
      "Current time: 00059000  50.45885443687439\n",
      "Current time: 00060000  50.06468749046326\n",
      "Current time: 00061000  49.39185047149658\n",
      "Current time: 00062000  50.05012273788452\n",
      "Current time: 00063000  50.603580713272095\n",
      "Current time: 00064000  49.96605134010315\n",
      "Current time: 00065000  50.564632177352905\n",
      "Current time: 00066000  50.221718311309814\n",
      "Current time: 00067000  50.908087730407715\n",
      "Current time: 00068000  51.2156777381897\n",
      "Current time: 00069000  50.82124328613281\n",
      "Current time: 00070000  51.594975233078\n",
      "Current time: 00071000  51.77164149284363\n",
      "Current time: 00072000  51.959593296051025\n",
      "Current time: 00073000  52.2923264503479\n",
      "Current time: 00074000  51.92004442214966\n",
      "Current time: 00075000  53.21651792526245\n",
      "Current time: 00076000  52.597686767578125\n",
      "Current time: 00077000  52.693625688552856\n",
      "Current time: 00078000  52.921969413757324\n",
      "Current time: 00079000  53.095484256744385\n",
      "Current time: 00080000  53.2139995098114\n",
      "Current time: 00081000  53.37891364097595\n",
      "Current time: 00082000  53.097023487091064\n",
      "Current time: 00083000  53.32215738296509\n",
      "Current time: 00084000  53.82142901420593\n",
      "Current time: 00085000  58.772032260894775\n",
      "Current time: 00086000  59.613221406936646\n",
      "Current time: 00087000  58.92435598373413\n",
      "Current time: 00088000  53.61827111244202\n",
      "Current time: 00089000  54.3649959564209\n",
      "Current time: 00090000  54.39959096908569\n",
      "Current time: 00091000  55.555970191955566\n",
      "Current time: 00092000  56.97264885902405\n",
      "Current time: 00093000  54.54059195518494\n",
      "Current time: 00094000  55.82947373390198\n",
      "Current time: 00095000  55.606451749801636\n",
      "Current time: 00096000  55.799365758895874\n",
      "Current time: 00097000  56.37453246116638\n",
      "Current time: 00098000  56.22487163543701\n",
      "Current time: 00099000  56.46717023849487\n",
      "Current time: 00100000  56.60103368759155\n",
      "Current time: 00101000  57.06433820724487\n",
      "Current time: 00102000  57.74906015396118\n",
      "Current time: 00103000  56.825114727020264\n",
      "Current time: 00104000  57.47445344924927\n",
      "Current time: 00105000  58.28125214576721\n",
      "Current time: 00106000  57.722265005111694\n",
      "Current time: 00107000  57.62197709083557\n",
      "Current time: 00108000  58.46190047264099\n",
      "Current time: 00109000  58.19927215576172\n",
      "Current time: 00110000  59.11104941368103\n",
      "Current time: 00111000  58.79935812950134\n",
      "Current time: 00112000  60.98578977584839\n",
      "Current time: 00113000  60.938183307647705\n",
      "Current time: 00114000  60.02781844139099\n",
      "Current time: 00115000  60.59531116485596\n",
      "Current time: 00116000  60.257187843322754\n",
      "Current time: 00117000  60.41801404953003\n",
      "Current time: 00118000  60.56547164916992\n",
      "Current time: 00119000  60.433690547943115\n",
      "Current time: 00120000  63.01526594161987\n",
      "Current time: 00121000  60.23191475868225\n",
      "Current time: 00122000  61.50323677062988\n",
      "Current time: 00123000  62.37634587287903\n",
      "Current time: 00124000  64.70851492881775\n",
      "Current time: 00125000  67.94683408737183\n",
      "Current time: 00126000  62.836082458496094\n",
      "Current time: 00127000  62.04149532318115\n",
      "Current time: 00128000  60.941601037979126\n",
      "Current time: 00129000  61.99597382545471\n",
      "Current time: 00130000  67.90191435813904\n",
      "Current time: 00131000  63.33314037322998\n",
      "Current time: 00132000  62.048670053482056\n",
      "Current time: 00133000  62.339844703674316\n",
      "Current time: 00134000  62.28554391860962\n",
      "Current time: 00135000  63.34376811981201\n",
      "Current time: 00136000  62.5019474029541\n",
      "Current time: 00137000  62.72300672531128\n",
      "Current time: 00138000  62.39151215553284\n",
      "Current time: 00139000  63.63244867324829\n",
      "Current time: 00140000  63.0236279964447\n",
      "Current time: 00141000  63.48127102851868\n",
      "Current time: 00142000  63.63150382041931\n",
      "Current time: 00143000  64.6009726524353\n",
      "Current time: 00144000  68.54591488838196\n",
      "Current time: 00145000  64.18904447555542\n",
      "Current time: 00146000  66.46913528442383\n",
      "Current time: 00147000  64.91010570526123\n",
      "Current time: 00148000  66.8240852355957\n",
      "Current time: 00149000  68.43845582008362\n",
      "Current time: 00150000  67.31436944007874\n",
      "Current time: 00151000  67.26950645446777\n",
      "Current time: 00152000  67.02214050292969\n",
      "Current time: 00153000  67.73941588401794\n",
      "Current time: 00154000  66.88184976577759\n",
      "Current time: 00155000  67.56663465499878\n",
      "Current time: 00156000  69.05575776100159\n",
      "Current time: 00157000  71.82344007492065\n",
      "Current time: 00158000  70.17777872085571\n",
      "Current time: 00159000  69.94273209571838\n",
      "Current time: 00160000  69.633296251297\n",
      "Current time: 00161000  71.24513077735901\n",
      "Inference time:  8647.822365522385\n"
     ]
    }
   ],
   "source": [
    "cos_sims = []\n",
    "start_time = time.time()\n",
    "beg_time = start_time\n",
    "for folder in ssd_list_dir:    \n",
    "    img_path = os.path.join(ssd_path, folder)\n",
    "    image_1 = Image.open(os.path.join(img_path, \"0.jpg\"))\n",
    "    features_1 = extract_features(image_1)\n",
    "    image_2 = Image.open(os.path.join(img_path, \"1.jpg\"))\n",
    "    features_2 = extract_features(image_2)  \n",
    "    sim_scores = cosine_similarity(features_1.cpu().detach().reshape(1, -1), features_2.cpu().detach().reshape(1, -1))\n",
    "    cos_sims.append([folder, sim_scores[0][0]])\n",
    "    if int(folder) % 1000 == 0:\n",
    "        print(f'Current time: {folder} ', time.time() - beg_time)  \n",
    "        beg_time = time.time()\n",
    "\n",
    "end_time = time.time()\n",
    "print('Inference time: ', end_time - start_time)"
   ]
  },
  {
   "cell_type": "code",
   "execution_count": 315,
   "metadata": {},
   "outputs": [
    {
     "data": {
      "text/html": [
       "<div>\n",
       "<style scoped>\n",
       "    .dataframe tbody tr th:only-of-type {\n",
       "        vertical-align: middle;\n",
       "    }\n",
       "\n",
       "    .dataframe tbody tr th {\n",
       "        vertical-align: top;\n",
       "    }\n",
       "\n",
       "    .dataframe thead th {\n",
       "        text-align: right;\n",
       "    }\n",
       "</style>\n",
       "<table border=\"1\" class=\"dataframe\">\n",
       "  <thead>\n",
       "    <tr style=\"text-align: right;\">\n",
       "      <th></th>\n",
       "      <th>pair_id</th>\n",
       "      <th>similarity</th>\n",
       "    </tr>\n",
       "  </thead>\n",
       "  <tbody>\n",
       "    <tr>\n",
       "      <th>0</th>\n",
       "      <td>00000000</td>\n",
       "      <td>1.000000</td>\n",
       "    </tr>\n",
       "    <tr>\n",
       "      <th>1</th>\n",
       "      <td>00000001</td>\n",
       "      <td>0.463270</td>\n",
       "    </tr>\n",
       "    <tr>\n",
       "      <th>2</th>\n",
       "      <td>00000002</td>\n",
       "      <td>0.628494</td>\n",
       "    </tr>\n",
       "    <tr>\n",
       "      <th>3</th>\n",
       "      <td>00000003</td>\n",
       "      <td>0.703372</td>\n",
       "    </tr>\n",
       "    <tr>\n",
       "      <th>4</th>\n",
       "      <td>00000004</td>\n",
       "      <td>0.617622</td>\n",
       "    </tr>\n",
       "    <tr>\n",
       "      <th>...</th>\n",
       "      <td>...</td>\n",
       "      <td>...</td>\n",
       "    </tr>\n",
       "    <tr>\n",
       "      <th>161186</th>\n",
       "      <td>00161186</td>\n",
       "      <td>0.612823</td>\n",
       "    </tr>\n",
       "    <tr>\n",
       "      <th>161187</th>\n",
       "      <td>00161187</td>\n",
       "      <td>0.729216</td>\n",
       "    </tr>\n",
       "    <tr>\n",
       "      <th>161188</th>\n",
       "      <td>00161188</td>\n",
       "      <td>0.295253</td>\n",
       "    </tr>\n",
       "    <tr>\n",
       "      <th>161189</th>\n",
       "      <td>00161189</td>\n",
       "      <td>0.547375</td>\n",
       "    </tr>\n",
       "    <tr>\n",
       "      <th>161190</th>\n",
       "      <td>00161190</td>\n",
       "      <td>0.389724</td>\n",
       "    </tr>\n",
       "  </tbody>\n",
       "</table>\n",
       "<p>161191 rows × 2 columns</p>\n",
       "</div>"
      ],
      "text/plain": [
       "         pair_id  similarity\n",
       "0       00000000    1.000000\n",
       "1       00000001    0.463270\n",
       "2       00000002    0.628494\n",
       "3       00000003    0.703372\n",
       "4       00000004    0.617622\n",
       "...          ...         ...\n",
       "161186  00161186    0.612823\n",
       "161187  00161187    0.729216\n",
       "161188  00161188    0.295253\n",
       "161189  00161189    0.547375\n",
       "161190  00161190    0.389724\n",
       "\n",
       "[161191 rows x 2 columns]"
      ]
     },
     "execution_count": 315,
     "metadata": {},
     "output_type": "execute_result"
    }
   ],
   "source": [
    "preds = pd.DataFrame(cos_sims, columns = ['pair_id', 'similarity'])\n",
    "preds"
   ]
  },
  {
   "cell_type": "code",
   "execution_count": 316,
   "metadata": {},
   "outputs": [],
   "source": [
    "preds.to_csv('submit_v2.csv', index = False)"
   ]
  },
  {
   "cell_type": "code",
   "execution_count": 317,
   "metadata": {},
   "outputs": [
    {
     "data": {
      "text/html": [
       "<div>\n",
       "<style scoped>\n",
       "    .dataframe tbody tr th:only-of-type {\n",
       "        vertical-align: middle;\n",
       "    }\n",
       "\n",
       "    .dataframe tbody tr th {\n",
       "        vertical-align: top;\n",
       "    }\n",
       "\n",
       "    .dataframe thead th {\n",
       "        text-align: right;\n",
       "    }\n",
       "</style>\n",
       "<table border=\"1\" class=\"dataframe\">\n",
       "  <thead>\n",
       "    <tr style=\"text-align: right;\">\n",
       "      <th></th>\n",
       "      <th>pair_id</th>\n",
       "      <th>similarity</th>\n",
       "    </tr>\n",
       "  </thead>\n",
       "  <tbody>\n",
       "    <tr>\n",
       "      <th>1</th>\n",
       "      <td>00000001</td>\n",
       "      <td>0.463270</td>\n",
       "    </tr>\n",
       "    <tr>\n",
       "      <th>5</th>\n",
       "      <td>00000005</td>\n",
       "      <td>0.394853</td>\n",
       "    </tr>\n",
       "    <tr>\n",
       "      <th>8</th>\n",
       "      <td>00000008</td>\n",
       "      <td>0.451286</td>\n",
       "    </tr>\n",
       "    <tr>\n",
       "      <th>12</th>\n",
       "      <td>00000012</td>\n",
       "      <td>0.370295</td>\n",
       "    </tr>\n",
       "    <tr>\n",
       "      <th>13</th>\n",
       "      <td>00000013</td>\n",
       "      <td>0.303933</td>\n",
       "    </tr>\n",
       "    <tr>\n",
       "      <th>...</th>\n",
       "      <td>...</td>\n",
       "      <td>...</td>\n",
       "    </tr>\n",
       "    <tr>\n",
       "      <th>161180</th>\n",
       "      <td>00161180</td>\n",
       "      <td>0.376577</td>\n",
       "    </tr>\n",
       "    <tr>\n",
       "      <th>161181</th>\n",
       "      <td>00161181</td>\n",
       "      <td>0.370270</td>\n",
       "    </tr>\n",
       "    <tr>\n",
       "      <th>161183</th>\n",
       "      <td>00161183</td>\n",
       "      <td>0.101965</td>\n",
       "    </tr>\n",
       "    <tr>\n",
       "      <th>161188</th>\n",
       "      <td>00161188</td>\n",
       "      <td>0.295253</td>\n",
       "    </tr>\n",
       "    <tr>\n",
       "      <th>161190</th>\n",
       "      <td>00161190</td>\n",
       "      <td>0.389724</td>\n",
       "    </tr>\n",
       "  </tbody>\n",
       "</table>\n",
       "<p>81430 rows × 2 columns</p>\n",
       "</div>"
      ],
      "text/plain": [
       "         pair_id  similarity\n",
       "1       00000001    0.463270\n",
       "5       00000005    0.394853\n",
       "8       00000008    0.451286\n",
       "12      00000012    0.370295\n",
       "13      00000013    0.303933\n",
       "...          ...         ...\n",
       "161180  00161180    0.376577\n",
       "161181  00161181    0.370270\n",
       "161183  00161183    0.101965\n",
       "161188  00161188    0.295253\n",
       "161190  00161190    0.389724\n",
       "\n",
       "[81430 rows x 2 columns]"
      ]
     },
     "execution_count": 317,
     "metadata": {},
     "output_type": "execute_result"
    }
   ],
   "source": [
    "preds.loc[preds['similarity']<0.5]"
   ]
  },
  {
   "cell_type": "markdown",
   "metadata": {},
   "source": [
    "Результат: 0.3577"
   ]
  }
 ],
 "metadata": {
  "colab": {
   "provenance": []
  },
  "kernelspec": {
   "display_name": "Python 3 (ipykernel)",
   "language": "python",
   "name": "python3"
  },
  "language_info": {
   "codemirror_mode": {
    "name": "ipython",
    "version": 3
   },
   "file_extension": ".py",
   "mimetype": "text/x-python",
   "name": "python",
   "nbconvert_exporter": "python",
   "pygments_lexer": "ipython3",
   "version": "3.12.7"
  }
 },
 "nbformat": 4,
 "nbformat_minor": 4
}
