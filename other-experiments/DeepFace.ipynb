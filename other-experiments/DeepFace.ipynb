{
 "cells": [
  {
   "cell_type": "code",
   "execution_count": 113,
   "id": "c3270904-3ddb-4305-abc6-74151b945a3a",
   "metadata": {},
   "outputs": [],
   "source": [
    "#pip install deepface"
   ]
  },
  {
   "cell_type": "code",
   "execution_count": 25,
   "id": "8fc3ae70-eb3a-4b10-a340-d6a9d4d22b69",
   "metadata": {},
   "outputs": [],
   "source": [
    "import os\n",
    "\n",
    "import pandas as pd\n",
    "import numpy as np\n",
    "\n",
    "import torch\n",
    "import torch.nn as nn\n",
    "import torch.nn.functional as F\n",
    "\n",
    "import matplotlib as mpl\n",
    "import matplotlib.pyplot as plt\n",
    "import matplotlib.ticker as ticker\n",
    "\n",
    "from sklearn.metrics.pairwise import cosine_similarity\n",
    "\n",
    "import seaborn as sns\n",
    "\n",
    "import PIL \n",
    "from PIL import Image\n",
    "\n",
    "import cv2\n",
    "import time\n",
    "\n",
    "from deepface import DeepFace\n",
    "\n",
    "import time"
   ]
  },
  {
   "cell_type": "code",
   "execution_count": 2,
   "id": "8aa2240d-4c5d-406d-ae44-1219acea78d3",
   "metadata": {},
   "outputs": [
    {
     "data": {
      "text/plain": [
       "'cuda'"
      ]
     },
     "execution_count": 2,
     "metadata": {},
     "output_type": "execute_result"
    }
   ],
   "source": [
    "device = 'cuda' if torch.cuda.is_available() else 'cpu'\n",
    "device"
   ]
  },
  {
   "cell_type": "code",
   "execution_count": 3,
   "id": "f45814e7-3039-4650-a264-7da2bc66a7f6",
   "metadata": {},
   "outputs": [
    {
     "name": "stdout",
     "output_type": "stream",
     "text": [
      "Wed Mar  5 04:01:20 2025       \n",
      "+-----------------------------------------------------------------------------------------+\n",
      "| NVIDIA-SMI 561.19                 Driver Version: 561.19         CUDA Version: 12.6     |\n",
      "|-----------------------------------------+------------------------+----------------------+\n",
      "| GPU  Name                  Driver-Model | Bus-Id          Disp.A | Volatile Uncorr. ECC |\n",
      "| Fan  Temp   Perf          Pwr:Usage/Cap |           Memory-Usage | GPU-Util  Compute M. |\n",
      "|                                         |                        |               MIG M. |\n",
      "|=========================================+========================+======================|\n",
      "|   0  NVIDIA GeForce GTX 1650 Ti   WDDM  |   00000000:01:00.0 Off |                  N/A |\n",
      "| N/A   59C    P0             13W /   50W |       0MiB /   4096MiB |      0%      Default |\n",
      "|                                         |                        |                  N/A |\n",
      "+-----------------------------------------+------------------------+----------------------+\n",
      "                                                                                         \n",
      "+-----------------------------------------------------------------------------------------+\n",
      "| Processes:                                                                              |\n",
      "|  GPU   GI   CI        PID   Type   Process name                              GPU Memory |\n",
      "|        ID   ID                                                               Usage      |\n",
      "|=========================================================================================|\n",
      "|  No running processes found                                                             |\n",
      "+-----------------------------------------------------------------------------------------+\n"
     ]
    },
    {
     "data": {
      "text/plain": [
       "True"
      ]
     },
     "execution_count": 3,
     "metadata": {},
     "output_type": "execute_result"
    }
   ],
   "source": [
    "!nvidia-smi\n",
    "torch.cuda.is_available()"
   ]
  },
  {
   "cell_type": "code",
   "execution_count": 4,
   "id": "73e4f8c3-7bc6-45eb-89fc-9e8270c9fede",
   "metadata": {},
   "outputs": [],
   "source": [
    "#настроим random_seed всего\n",
    "seed_num = 13\n",
    "torch.manual_seed(seed_num)\n",
    "torch.cuda.manual_seed(seed_num)\n",
    "torch.cuda.manual_seed_all(seed_num)\n",
    "torch.use_deterministic_algorithms(True) # do not work in collab\n",
    "np.random.seed(seed_num)\n",
    "\n",
    "import torch.backends.cudnn\n",
    "torch.backends.cudnn.benchmark = False\n",
    "torch.backends.cudnn.deterministic = True # do not work in collab"
   ]
  },
  {
   "cell_type": "code",
   "execution_count": 5,
   "id": "d9f8afe2-60d6-43e4-83ed-6bb9b319d5aa",
   "metadata": {},
   "outputs": [
    {
     "data": {
      "text/plain": [
       "'F:\\\\Codenrock\\\\Kryptonite'"
      ]
     },
     "execution_count": 5,
     "metadata": {},
     "output_type": "execute_result"
    }
   ],
   "source": [
    "project_path = r'F:\\Codenrock\\Kryptonite'\n",
    "local_path = os.getcwd()\n",
    "project_path"
   ]
  },
  {
   "cell_type": "markdown",
   "id": "662e3f29-3fbf-4446-8657-34b3d7226246",
   "metadata": {},
   "source": [
    "### Try model"
   ]
  },
  {
   "cell_type": "markdown",
   "id": "31cde0d0-d6dc-40b5-8eab-47eefb7e5d68",
   "metadata": {},
   "source": [
    "DeepFace https://github.com/serengil/deepface/tree/master"
   ]
  },
  {
   "cell_type": "markdown",
   "id": "95d36747-1b20-4fe7-97f5-5c1dacb38f38",
   "metadata": {},
   "source": [
    "##### При запуске первый раз модель скачивает веса. Потом работает уже быстро"
   ]
  },
  {
   "cell_type": "markdown",
   "id": "fc362378-277a-4f77-9f7e-a48c838290db",
   "metadata": {},
   "source": [
    "##### Первый режим работы"
   ]
  },
  {
   "cell_type": "code",
   "execution_count": 11,
   "id": "a7d00318-9145-48c7-be91-28105f1ef463",
   "metadata": {},
   "outputs": [],
   "source": [
    "image_path = os.path.join(project_path, 'data', 'train', 'images', '000000')\n",
    "\n",
    "result = DeepFace.verify(\n",
    "  img1_path = os.path.join(image_path, \"0.jpg\"),\n",
    "  img2_path = os.path.join(image_path, \"1.jpg\"),\n",
    ")"
   ]
  },
  {
   "cell_type": "code",
   "execution_count": 17,
   "id": "f5dbef79-7ee7-400a-9519-954d438cc749",
   "metadata": {},
   "outputs": [
    {
     "name": "stdout",
     "output_type": "stream",
     "text": [
      "CPU times: total: 1.84 s\n",
      "Wall time: 687 ms\n"
     ]
    }
   ],
   "source": [
    "%%time \n",
    "\n",
    "result = DeepFace.verify(\n",
    "  img1_path = os.path.join(image_path, \"0.jpg\"),\n",
    "  img2_path = os.path.join(image_path, \"1.jpg\"),\n",
    ")"
   ]
  },
  {
   "cell_type": "code",
   "execution_count": 17,
   "id": "eeef1aaa-234d-40c2-9ab0-a9517b7a9320",
   "metadata": {},
   "outputs": [
    {
     "data": {
      "text/plain": [
       "{'verified': True,\n",
       " 'distance': 0.38093279256577395,\n",
       " 'threshold': 0.68,\n",
       " 'model': 'VGG-Face',\n",
       " 'detector_backend': 'opencv',\n",
       " 'similarity_metric': 'cosine',\n",
       " 'facial_areas': {'img1': {'x': 15,\n",
       "   'y': 14,\n",
       "   'w': 202,\n",
       "   'h': 202,\n",
       "   'left_eye': None,\n",
       "   'right_eye': None},\n",
       "  'img2': {'x': 15,\n",
       "   'y': 26,\n",
       "   'w': 191,\n",
       "   'h': 191,\n",
       "   'left_eye': None,\n",
       "   'right_eye': None}},\n",
       " 'time': 2.58}"
      ]
     },
     "execution_count": 17,
     "metadata": {},
     "output_type": "execute_result"
    }
   ],
   "source": [
    "result"
   ]
  },
  {
   "cell_type": "code",
   "execution_count": 23,
   "id": "d1fa87e2-6bfb-49d8-868e-febc7b78294b",
   "metadata": {},
   "outputs": [
    {
     "data": {
      "text/plain": [
       "0.38093279256577395"
      ]
     },
     "execution_count": 23,
     "metadata": {},
     "output_type": "execute_result"
    }
   ],
   "source": [
    "result['distance']"
   ]
  },
  {
   "cell_type": "code",
   "execution_count": 40,
   "id": "bc003c4a-ad49-4a93-bffd-473b46874f03",
   "metadata": {},
   "outputs": [
    {
     "name": "stdout",
     "output_type": "stream",
     "text": [
      "Inference time:  0.6655762195587158\n"
     ]
    }
   ],
   "source": [
    "# измерим время инференса\n",
    "\n",
    "start_time = time.time()\n",
    "\n",
    "result = DeepFace.verify(\n",
    "  img1_path = os.path.join(image_path, \"0.jpg\"),\n",
    "  img2_path = os.path.join(image_path, \"1.jpg\"),\n",
    ")\n",
    "# конечное время\n",
    "end_time = time.time()\n",
    "print('Inference time: ', end_time - start_time)"
   ]
  },
  {
   "cell_type": "code",
   "execution_count": 17,
   "id": "68cf5c06-2819-44a4-9f51-f17ef7421aa8",
   "metadata": {},
   "outputs": [
    {
     "name": "stdout",
     "output_type": "stream",
     "text": [
      "Inference time:  0.6288270950317383\n"
     ]
    }
   ],
   "source": [
    "# измерим время инференса, если перенесем фото с внешнего диска на С\n",
    "local_image_path = r'C:\\Users\\serge\\DS\\Codenrock\\Kryptonite\\000000'\n",
    "start_time = time.time()\n",
    "\n",
    "result = DeepFace.verify(\n",
    "  img1_path = os.path.join(local_image_path, \"0.jpg\"),\n",
    "  img2_path = os.path.join(local_image_path, \"1.jpg\"),\n",
    ")\n",
    "# конечное время\n",
    "end_time = time.time()\n",
    "print('Inference time: ', end_time - start_time)"
   ]
  },
  {
   "cell_type": "markdown",
   "id": "22283c25-2894-431b-ac57-d8d5623e3056",
   "metadata": {},
   "source": [
    "Время инференса меняется от запуска к запуску на одной и той же паре фото. Составляет от 0.6 до 1.2. Перенос с внешнего диска особо скорости не добавил"
   ]
  },
  {
   "cell_type": "markdown",
   "id": "b6c28176-1709-4e43-95e0-6cfb12d1060a",
   "metadata": {},
   "source": [
    "##### Второй режим работы"
   ]
  },
  {
   "cell_type": "code",
   "execution_count": 108,
   "id": "ab7338b3-2cb2-4d10-93a3-44d705dfbf9c",
   "metadata": {},
   "outputs": [
    {
     "data": {
      "text/plain": [
       "array([0., 0., 0., ..., 0., 0., 0.])"
      ]
     },
     "execution_count": 108,
     "metadata": {},
     "output_type": "execute_result"
    }
   ],
   "source": [
    "embedding_objs = DeepFace.represent(\n",
    "  img_path = os.path.join(local_image_path, \"0.jpg\")\n",
    ")\n",
    "\n",
    "for embedding_obj in embedding_objs:\n",
    "  embedding_0 = np.array(embedding_obj[\"embedding\"])\n",
    "embedding_0 "
   ]
  },
  {
   "cell_type": "code",
   "execution_count": 110,
   "id": "674543cc-5498-44fb-8030-7650cf1b0b28",
   "metadata": {},
   "outputs": [
    {
     "data": {
      "text/plain": [
       "array([0., 0., 0., ..., 0., 0., 0.])"
      ]
     },
     "execution_count": 110,
     "metadata": {},
     "output_type": "execute_result"
    }
   ],
   "source": [
    "  img_path = os.path.join(local_image_path, \"1.jpg\")\n",
    ")\n",
    "\n",
    "for embedding_obj in embedding_objs:\n",
    "  embedding_1 = np.array(embedding_obj[\"embedding\"])\n",
    "embedding_1"
   ]
  },
  {
   "cell_type": "code",
   "execution_count": 114,
   "id": "ded6b9fe-c326-4811-affe-ad298f67896f",
   "metadata": {},
   "outputs": [
    {
     "data": {
      "text/plain": [
       "array([[0.61906721]])"
      ]
     },
     "execution_count": 114,
     "metadata": {},
     "output_type": "execute_result"
    }
   ],
   "source": [
    "sim_scores = cosine_similarity(embedding_0.reshape(1, -1), embedding_1.reshape(1, -1))\n",
    "sim_scores"
   ]
  },
  {
   "cell_type": "code",
   "execution_count": 116,
   "id": "d732bd14-4590-4359-b6c0-3b221d371fb8",
   "metadata": {},
   "outputs": [
    {
     "data": {
      "text/plain": [
       "0.619067207434226"
      ]
     },
     "execution_count": 116,
     "metadata": {},
     "output_type": "execute_result"
    }
   ],
   "source": [
    "1-0.38093279256577395"
   ]
  },
  {
   "cell_type": "markdown",
   "id": "32402971-1105-4b67-a997-004ea1214732",
   "metadata": {},
   "source": [
    "##### Результат обоими способами совпадает:)"
   ]
  },
  {
   "cell_type": "code",
   "execution_count": 178,
   "id": "4e74ba6e-30fa-41f7-a7a9-5401cd00bcf2",
   "metadata": {},
   "outputs": [
    {
     "name": "stdout",
     "output_type": "stream",
     "text": [
      "Inference time:  0.6533646583557129\n",
      "[[0.61906721]]\n"
     ]
    }
   ],
   "source": [
    "# check time\n",
    "start_time = time.time()\n",
    "\n",
    "embedding_objs = DeepFace.represent(\n",
    "  img_path = os.path.join(local_image_path, \"0.jpg\")\n",
    ")\n",
    "for embedding_obj in embedding_objs:\n",
    "  embedding_0 = np.array(embedding_obj[\"embedding\"])\n",
    "\n",
    "embedding_objs = DeepFace.represent(\n",
    "  img_path = os.path.join(local_image_path, \"1.jpg\") # real\n",
    ")\n",
    "\n",
    "for embedding_obj in embedding_objs:\n",
    "  embedding_1 = np.array(embedding_obj[\"embedding\"])\n",
    "\n",
    "sim_scores = cosine_similarity(embedding_0.reshape(1, -1), embedding_1.reshape(1, -1))\n",
    "\n",
    "# конечное время\n",
    "end_time = time.time()\n",
    "print('Inference time: ', end_time - start_time)\n",
    "print(sim_scores)"
   ]
  },
  {
   "cell_type": "markdown",
   "id": "961bc922-fd27-4a00-8b62-94394439d98c",
   "metadata": {},
   "source": [
    "Время тоже меняется, нужны массовые замеры, чтобы посчитать среднее"
   ]
  },
  {
   "cell_type": "markdown",
   "id": "72697a31-4d6a-4013-bad2-902adc9f5e8b",
   "metadata": {},
   "source": [
    "### Посмотрим сравнение real face и deepfake глазами"
   ]
  },
  {
   "cell_type": "code",
   "execution_count": 180,
   "id": "81847a4c-eaf7-4b28-b939-5cbd8cdba9a6",
   "metadata": {},
   "outputs": [
    {
     "name": "stdout",
     "output_type": "stream",
     "text": [
      "Inference time:  0.6491076946258545\n",
      "[[0.6079998]]\n"
     ]
    }
   ],
   "source": [
    "# check time CPU\n",
    "start_time = time.time()\n",
    "\n",
    "embedding_objs = DeepFace.represent(\n",
    "  img_path = os.path.join(local_image_path, \"0.jpg\")\n",
    ")\n",
    "for embedding_obj in embedding_objs:\n",
    "  embedding_0 = np.array(embedding_obj[\"embedding\"])\n",
    "\n",
    "embedding_objs = DeepFace.represent(\n",
    "  img_path = os.path.join(local_image_path, \"2.jpg\") # fake\n",
    ")\n",
    "\n",
    "for embedding_obj in embedding_objs:\n",
    "  embedding_1 = np.array(embedding_obj[\"embedding\"])\n",
    "\n",
    "sim_scores = cosine_similarity(embedding_0.reshape(1, -1), embedding_1.reshape(1, -1))\n",
    "\n",
    "end_time = time.time()\n",
    "print('Inference time: ', end_time - start_time)\n",
    "print(sim_scores)"
   ]
  },
  {
   "cell_type": "code",
   "execution_count": 182,
   "id": "b5dc1144-a32e-426f-8afc-d1e83320c98b",
   "metadata": {},
   "outputs": [
    {
     "name": "stdout",
     "output_type": "stream",
     "text": [
      "Inference time:  0.646836519241333\n",
      "[[0.43059926]]\n"
     ]
    }
   ],
   "source": [
    "# check time CPU\n",
    "start_time = time.time()\n",
    "\n",
    "embedding_objs = DeepFace.represent(\n",
    "  img_path = os.path.join(local_image_path, \"0.jpg\")\n",
    ")\n",
    "for embedding_obj in embedding_objs:\n",
    "  embedding_0 = np.array(embedding_obj[\"embedding\"])\n",
    "\n",
    "embedding_objs = DeepFace.represent(\n",
    "  img_path = os.path.join(local_image_path, \"3.jpg\") # fake\n",
    ")\n",
    "\n",
    "for embedding_obj in embedding_objs:\n",
    "  embedding_1 = np.array(embedding_obj[\"embedding\"])\n",
    "\n",
    "sim_scores = cosine_similarity(embedding_0.reshape(1, -1), embedding_1.reshape(1, -1))\n",
    "\n",
    "end_time = time.time()\n",
    "print('Inference time: ', end_time - start_time)\n",
    "print(sim_scores)"
   ]
  },
  {
   "cell_type": "code",
   "execution_count": 184,
   "id": "d7fc9ccc-1068-42b5-9c6c-2dbad6b80cf9",
   "metadata": {},
   "outputs": [
    {
     "name": "stdout",
     "output_type": "stream",
     "text": [
      "Inference time:  0.7515063285827637\n",
      "[[0.55766013]]\n"
     ]
    }
   ],
   "source": [
    "# check time CPU\n",
    "start_time = time.time()\n",
    "\n",
    "embedding_objs = DeepFace.represent(\n",
    "  img_path = os.path.join(local_image_path, \"0.jpg\")\n",
    ")\n",
    "for embedding_obj in embedding_objs:\n",
    "  embedding_0 = np.array(embedding_obj[\"embedding\"])\n",
    "\n",
    "embedding_objs = DeepFace.represent(\n",
    "  img_path = os.path.join(local_image_path, \"4.jpg\") # real\n",
    ")\n",
    "\n",
    "for embedding_obj in embedding_objs:\n",
    "  embedding_1 = np.array(embedding_obj[\"embedding\"])\n",
    "\n",
    "sim_scores = cosine_similarity(embedding_0.reshape(1, -1), embedding_1.reshape(1, -1))\n",
    "\n",
    "end_time = time.time()\n",
    "print('Inference time: ', end_time - start_time)\n",
    "print(sim_scores)"
   ]
  },
  {
   "cell_type": "code",
   "execution_count": 186,
   "id": "aee3f1bb-d08c-498d-a71b-597945675dcc",
   "metadata": {},
   "outputs": [
    {
     "name": "stdout",
     "output_type": "stream",
     "text": [
      "Inference time:  0.6569499969482422\n",
      "[[0.62218966]]\n"
     ]
    }
   ],
   "source": [
    "# check time CPU\n",
    "start_time = time.time()\n",
    "\n",
    "embedding_objs = DeepFace.represent(\n",
    "  img_path = os.path.join(local_image_path, \"0.jpg\")\n",
    ")\n",
    "for embedding_obj in embedding_objs:\n",
    "  embedding_0 = np.array(embedding_obj[\"embedding\"])\n",
    "\n",
    "embedding_objs = DeepFace.represent(\n",
    "  img_path = os.path.join(local_image_path, \"5.jpg\") # real\n",
    ")\n",
    "\n",
    "for embedding_obj in embedding_objs:\n",
    "  embedding_1 = np.array(embedding_obj[\"embedding\"])\n",
    "\n",
    "sim_scores = cosine_similarity(embedding_0.reshape(1, -1), embedding_1.reshape(1, -1))\n",
    "\n",
    "end_time = time.time()\n",
    "print('Inference time: ', end_time - start_time)\n",
    "print(sim_scores)"
   ]
  },
  {
   "cell_type": "code",
   "execution_count": 188,
   "id": "3b2cfa1b-803b-42ae-bbb4-b928349fb3a6",
   "metadata": {},
   "outputs": [
    {
     "name": "stdout",
     "output_type": "stream",
     "text": [
      "Inference time:  0.661942720413208\n",
      "[[0.44014376]]\n"
     ]
    }
   ],
   "source": [
    "# check time CPU\n",
    "start_time = time.time()\n",
    "\n",
    "embedding_objs = DeepFace.represent(\n",
    "  img_path = os.path.join(local_image_path, \"0.jpg\")\n",
    ")\n",
    "for embedding_obj in embedding_objs:\n",
    "  embedding_0 = np.array(embedding_obj[\"embedding\"])\n",
    "\n",
    "embedding_objs = DeepFace.represent(\n",
    "  img_path = os.path.join(local_image_path, \"6.jpg\") # fake\n",
    ")\n",
    "\n",
    "for embedding_obj in embedding_objs:\n",
    "  embedding_1 = np.array(embedding_obj[\"embedding\"])\n",
    "\n",
    "sim_scores = cosine_similarity(embedding_0.reshape(1, -1), embedding_1.reshape(1, -1))\n",
    "\n",
    "end_time = time.time()\n",
    "print('Inference time: ', end_time - start_time)\n",
    "print(sim_scores)"
   ]
  },
  {
   "cell_type": "code",
   "execution_count": 190,
   "id": "3415a5d2-631a-416a-a62b-6e7224a6e822",
   "metadata": {},
   "outputs": [
    {
     "name": "stdout",
     "output_type": "stream",
     "text": [
      "Inference time:  0.6849393844604492\n",
      "[[0.5188896]]\n"
     ]
    }
   ],
   "source": [
    "# check time CPU\n",
    "start_time = time.time()\n",
    "\n",
    "embedding_objs = DeepFace.represent(\n",
    "  img_path = os.path.join(local_image_path, \"0.jpg\")\n",
    ")\n",
    "for embedding_obj in embedding_objs:\n",
    "  embedding_0 = np.array(embedding_obj[\"embedding\"])\n",
    "\n",
    "embedding_objs = DeepFace.represent(\n",
    "  img_path = os.path.join(local_image_path, \"7.jpg\") # fake\n",
    ")\n",
    "\n",
    "for embedding_obj in embedding_objs:\n",
    "  embedding_1 = np.array(embedding_obj[\"embedding\"])\n",
    "\n",
    "sim_scores = cosine_similarity(embedding_0.reshape(1, -1), embedding_1.reshape(1, -1))\n",
    "\n",
    "end_time = time.time()\n",
    "print('Inference time: ', end_time - start_time)\n",
    "print(sim_scores)"
   ]
  },
  {
   "cell_type": "code",
   "execution_count": 192,
   "id": "8d173e23-6b3f-472a-ab65-335133dab4c2",
   "metadata": {},
   "outputs": [
    {
     "name": "stdout",
     "output_type": "stream",
     "text": [
      "Inference time:  0.6550729274749756\n",
      "[[0.53975732]]\n"
     ]
    }
   ],
   "source": [
    "# check time CPU\n",
    "start_time = time.time()\n",
    "\n",
    "embedding_objs = DeepFace.represent(\n",
    "  img_path = os.path.join(local_image_path, \"0.jpg\")\n",
    ")\n",
    "for embedding_obj in embedding_objs:\n",
    "  embedding_0 = np.array(embedding_obj[\"embedding\"])\n",
    "\n",
    "embedding_objs = DeepFace.represent(\n",
    "  img_path = os.path.join(local_image_path, \"8.jpg\") # fake\n",
    ")\n",
    "\n",
    "for embedding_obj in embedding_objs:\n",
    "  embedding_1 = np.array(embedding_obj[\"embedding\"])\n",
    "\n",
    "sim_scores = cosine_similarity(embedding_0.reshape(1, -1), embedding_1.reshape(1, -1))\n",
    "\n",
    "end_time = time.time()\n",
    "print('Inference time: ', end_time - start_time)\n",
    "print(sim_scores)"
   ]
  },
  {
   "cell_type": "code",
   "execution_count": 194,
   "id": "b1fcb26c-9397-4014-a237-d32c8b487e65",
   "metadata": {},
   "outputs": [
    {
     "data": {
      "text/plain": [
       "4096"
      ]
     },
     "execution_count": 194,
     "metadata": {},
     "output_type": "execute_result"
    }
   ],
   "source": [
    "len(embedding_1)"
   ]
  },
  {
   "cell_type": "markdown",
   "id": "f09b94c8-4abe-4d12-8b7a-370249be0088",
   "metadata": {},
   "source": [
    "Real vs Fake в этой папке оценивается ниже, чем Real vs Real. Чтобы полноценно это доказать, нужно сравнение по трейновому датасету.\n",
    "Но скорость инференса крайне низкая. Побробуем подобрать бэкбоун побыстрее."
   ]
  },
  {
   "cell_type": "markdown",
   "id": "f0c1a53f-f194-4722-8cf2-2c28ace4ba39",
   "metadata": {},
   "source": [
    "### Backbone Comparison"
   ]
  },
  {
   "cell_type": "code",
   "execution_count": 19,
   "id": "a064d115-5018-4457-891f-d6548802a082",
   "metadata": {},
   "outputs": [
    {
     "data": {
      "text/plain": [
       "9"
      ]
     },
     "execution_count": 19,
     "metadata": {},
     "output_type": "execute_result"
    }
   ],
   "source": [
    "imgs_comparison_list = os.listdir(local_image_path)\n",
    "len(imgs_comparison_list)"
   ]
  },
  {
   "cell_type": "code",
   "execution_count": 21,
   "id": "697e8e6d-d2eb-4750-b698-239e5d589bb0",
   "metadata": {},
   "outputs": [],
   "source": [
    "def compare_imgs(model, path):\n",
    "    res = []\n",
    "    embedding_objs = DeepFace.represent(img_path = os.path.join(path, \"0.jpg\"), enforce_detection = False, model_name = model)\n",
    "    for embedding_obj in embedding_objs:\n",
    "      embedding_0 = np.array(embedding_obj[\"embedding\"])    \n",
    "    for img in range(1, len(imgs_comparison_list)):\n",
    "        start_time = time.time()   \n",
    "        name = str(img) + '.jpg'\n",
    "        embedding_objs = DeepFace.represent(img_path = os.path.join(path, name), enforce_detection = False, model_name = model)\n",
    "        for embedding_obj in embedding_objs:\n",
    "          embedding_1 = np.array(embedding_obj[\"embedding\"])\n",
    "        sim_scores = cosine_similarity(embedding_0.reshape(1, -1), embedding_1.reshape(1, -1))\n",
    "        end_time = time.time()\n",
    "        res.append([name, sim_scores[0][0], end_time - start_time])\n",
    "    return pd.DataFrame(res, columns = ['img_2', 'cos_sim', 'time'])"
   ]
  },
  {
   "cell_type": "code",
   "execution_count": 37,
   "id": "0e2ccbd5-e1b0-4b7e-bbfb-2d4977f97f19",
   "metadata": {},
   "outputs": [
    {
     "data": {
      "text/html": [
       "<div>\n",
       "<style scoped>\n",
       "    .dataframe tbody tr th:only-of-type {\n",
       "        vertical-align: middle;\n",
       "    }\n",
       "\n",
       "    .dataframe tbody tr th {\n",
       "        vertical-align: top;\n",
       "    }\n",
       "\n",
       "    .dataframe thead th {\n",
       "        text-align: right;\n",
       "    }\n",
       "</style>\n",
       "<table border=\"1\" class=\"dataframe\">\n",
       "  <thead>\n",
       "    <tr style=\"text-align: right;\">\n",
       "      <th></th>\n",
       "      <th>img_2</th>\n",
       "      <th>cos_sim</th>\n",
       "      <th>time</th>\n",
       "    </tr>\n",
       "  </thead>\n",
       "  <tbody>\n",
       "    <tr>\n",
       "      <th>0</th>\n",
       "      <td>1.jpg</td>\n",
       "      <td>0.619067</td>\n",
       "      <td>0.283330</td>\n",
       "    </tr>\n",
       "    <tr>\n",
       "      <th>1</th>\n",
       "      <td>2.jpg</td>\n",
       "      <td>0.608000</td>\n",
       "      <td>0.321746</td>\n",
       "    </tr>\n",
       "    <tr>\n",
       "      <th>2</th>\n",
       "      <td>3.jpg</td>\n",
       "      <td>0.430599</td>\n",
       "      <td>0.302622</td>\n",
       "    </tr>\n",
       "    <tr>\n",
       "      <th>3</th>\n",
       "      <td>4.jpg</td>\n",
       "      <td>0.557660</td>\n",
       "      <td>0.325660</td>\n",
       "    </tr>\n",
       "    <tr>\n",
       "      <th>4</th>\n",
       "      <td>5.jpg</td>\n",
       "      <td>0.622190</td>\n",
       "      <td>0.288249</td>\n",
       "    </tr>\n",
       "    <tr>\n",
       "      <th>5</th>\n",
       "      <td>6.jpg</td>\n",
       "      <td>0.440144</td>\n",
       "      <td>0.344581</td>\n",
       "    </tr>\n",
       "    <tr>\n",
       "      <th>6</th>\n",
       "      <td>7.jpg</td>\n",
       "      <td>0.518890</td>\n",
       "      <td>0.283063</td>\n",
       "    </tr>\n",
       "    <tr>\n",
       "      <th>7</th>\n",
       "      <td>8.jpg</td>\n",
       "      <td>0.539757</td>\n",
       "      <td>0.300061</td>\n",
       "    </tr>\n",
       "  </tbody>\n",
       "</table>\n",
       "</div>"
      ],
      "text/plain": [
       "   img_2   cos_sim      time\n",
       "0  1.jpg  0.619067  0.283330\n",
       "1  2.jpg  0.608000  0.321746\n",
       "2  3.jpg  0.430599  0.302622\n",
       "3  4.jpg  0.557660  0.325660\n",
       "4  5.jpg  0.622190  0.288249\n",
       "5  6.jpg  0.440144  0.344581\n",
       "6  7.jpg  0.518890  0.283063\n",
       "7  8.jpg  0.539757  0.300061"
      ]
     },
     "execution_count": 37,
     "metadata": {},
     "output_type": "execute_result"
    }
   ],
   "source": [
    "vgg_res = compare_imgs(\"VGG-Face\", local_image_path)\n",
    "vgg_res"
   ]
  },
  {
   "cell_type": "code",
   "execution_count": 38,
   "id": "fbb6c5aa-4695-48fa-96e4-070bb1b86262",
   "metadata": {},
   "outputs": [
    {
     "data": {
      "text/html": [
       "<div>\n",
       "<style scoped>\n",
       "    .dataframe tbody tr th:only-of-type {\n",
       "        vertical-align: middle;\n",
       "    }\n",
       "\n",
       "    .dataframe tbody tr th {\n",
       "        vertical-align: top;\n",
       "    }\n",
       "\n",
       "    .dataframe thead th {\n",
       "        text-align: right;\n",
       "    }\n",
       "</style>\n",
       "<table border=\"1\" class=\"dataframe\">\n",
       "  <thead>\n",
       "    <tr style=\"text-align: right;\">\n",
       "      <th></th>\n",
       "      <th>img_2</th>\n",
       "      <th>cos_sim</th>\n",
       "      <th>time</th>\n",
       "    </tr>\n",
       "  </thead>\n",
       "  <tbody>\n",
       "    <tr>\n",
       "      <th>0</th>\n",
       "      <td>1.jpg</td>\n",
       "      <td>0.795937</td>\n",
       "      <td>0.233232</td>\n",
       "    </tr>\n",
       "    <tr>\n",
       "      <th>1</th>\n",
       "      <td>2.jpg</td>\n",
       "      <td>0.666713</td>\n",
       "      <td>0.249881</td>\n",
       "    </tr>\n",
       "    <tr>\n",
       "      <th>2</th>\n",
       "      <td>3.jpg</td>\n",
       "      <td>0.698489</td>\n",
       "      <td>0.250910</td>\n",
       "    </tr>\n",
       "    <tr>\n",
       "      <th>3</th>\n",
       "      <td>4.jpg</td>\n",
       "      <td>0.807505</td>\n",
       "      <td>0.247659</td>\n",
       "    </tr>\n",
       "    <tr>\n",
       "      <th>4</th>\n",
       "      <td>5.jpg</td>\n",
       "      <td>0.842795</td>\n",
       "      <td>0.250927</td>\n",
       "    </tr>\n",
       "    <tr>\n",
       "      <th>5</th>\n",
       "      <td>6.jpg</td>\n",
       "      <td>0.704719</td>\n",
       "      <td>0.233027</td>\n",
       "    </tr>\n",
       "    <tr>\n",
       "      <th>6</th>\n",
       "      <td>7.jpg</td>\n",
       "      <td>0.742352</td>\n",
       "      <td>0.249872</td>\n",
       "    </tr>\n",
       "    <tr>\n",
       "      <th>7</th>\n",
       "      <td>8.jpg</td>\n",
       "      <td>0.762128</td>\n",
       "      <td>0.272656</td>\n",
       "    </tr>\n",
       "  </tbody>\n",
       "</table>\n",
       "</div>"
      ],
      "text/plain": [
       "   img_2   cos_sim      time\n",
       "0  1.jpg  0.795937  0.233232\n",
       "1  2.jpg  0.666713  0.249881\n",
       "2  3.jpg  0.698489  0.250910\n",
       "3  4.jpg  0.807505  0.247659\n",
       "4  5.jpg  0.842795  0.250927\n",
       "5  6.jpg  0.704719  0.233027\n",
       "6  7.jpg  0.742352  0.249872\n",
       "7  8.jpg  0.762128  0.272656"
      ]
     },
     "execution_count": 38,
     "metadata": {},
     "output_type": "execute_result"
    }
   ],
   "source": [
    "face_net_res = compare_imgs(\"Facenet\", local_image_path)\n",
    "face_net_res"
   ]
  },
  {
   "cell_type": "code",
   "execution_count": 39,
   "id": "72872903-deb5-4cd5-9cc3-43aad47c4803",
   "metadata": {},
   "outputs": [
    {
     "data": {
      "text/html": [
       "<div>\n",
       "<style scoped>\n",
       "    .dataframe tbody tr th:only-of-type {\n",
       "        vertical-align: middle;\n",
       "    }\n",
       "\n",
       "    .dataframe tbody tr th {\n",
       "        vertical-align: top;\n",
       "    }\n",
       "\n",
       "    .dataframe thead th {\n",
       "        text-align: right;\n",
       "    }\n",
       "</style>\n",
       "<table border=\"1\" class=\"dataframe\">\n",
       "  <thead>\n",
       "    <tr style=\"text-align: right;\">\n",
       "      <th></th>\n",
       "      <th>img_2</th>\n",
       "      <th>cos_sim</th>\n",
       "      <th>time</th>\n",
       "    </tr>\n",
       "  </thead>\n",
       "  <tbody>\n",
       "    <tr>\n",
       "      <th>0</th>\n",
       "      <td>1.jpg</td>\n",
       "      <td>0.810955</td>\n",
       "      <td>0.249847</td>\n",
       "    </tr>\n",
       "    <tr>\n",
       "      <th>1</th>\n",
       "      <td>2.jpg</td>\n",
       "      <td>0.695080</td>\n",
       "      <td>0.255564</td>\n",
       "    </tr>\n",
       "    <tr>\n",
       "      <th>2</th>\n",
       "      <td>3.jpg</td>\n",
       "      <td>0.679240</td>\n",
       "      <td>0.236072</td>\n",
       "    </tr>\n",
       "    <tr>\n",
       "      <th>3</th>\n",
       "      <td>4.jpg</td>\n",
       "      <td>0.809689</td>\n",
       "      <td>0.241143</td>\n",
       "    </tr>\n",
       "    <tr>\n",
       "      <th>4</th>\n",
       "      <td>5.jpg</td>\n",
       "      <td>0.870042</td>\n",
       "      <td>0.249858</td>\n",
       "    </tr>\n",
       "    <tr>\n",
       "      <th>5</th>\n",
       "      <td>6.jpg</td>\n",
       "      <td>0.825052</td>\n",
       "      <td>0.241378</td>\n",
       "    </tr>\n",
       "    <tr>\n",
       "      <th>6</th>\n",
       "      <td>7.jpg</td>\n",
       "      <td>0.809848</td>\n",
       "      <td>0.244299</td>\n",
       "    </tr>\n",
       "    <tr>\n",
       "      <th>7</th>\n",
       "      <td>8.jpg</td>\n",
       "      <td>0.825844</td>\n",
       "      <td>0.265758</td>\n",
       "    </tr>\n",
       "  </tbody>\n",
       "</table>\n",
       "</div>"
      ],
      "text/plain": [
       "   img_2   cos_sim      time\n",
       "0  1.jpg  0.810955  0.249847\n",
       "1  2.jpg  0.695080  0.255564\n",
       "2  3.jpg  0.679240  0.236072\n",
       "3  4.jpg  0.809689  0.241143\n",
       "4  5.jpg  0.870042  0.249858\n",
       "5  6.jpg  0.825052  0.241378\n",
       "6  7.jpg  0.809848  0.244299\n",
       "7  8.jpg  0.825844  0.265758"
      ]
     },
     "execution_count": 39,
     "metadata": {},
     "output_type": "execute_result"
    }
   ],
   "source": [
    "face_net_512_res = compare_imgs(\"Facenet512\", local_image_path)\n",
    "face_net_512_res"
   ]
  },
  {
   "cell_type": "code",
   "execution_count": 41,
   "id": "8a53b1e9-b4cb-49ca-abb2-2f68da380d10",
   "metadata": {},
   "outputs": [
    {
     "data": {
      "text/html": [
       "<div>\n",
       "<style scoped>\n",
       "    .dataframe tbody tr th:only-of-type {\n",
       "        vertical-align: middle;\n",
       "    }\n",
       "\n",
       "    .dataframe tbody tr th {\n",
       "        vertical-align: top;\n",
       "    }\n",
       "\n",
       "    .dataframe thead th {\n",
       "        text-align: right;\n",
       "    }\n",
       "</style>\n",
       "<table border=\"1\" class=\"dataframe\">\n",
       "  <thead>\n",
       "    <tr style=\"text-align: right;\">\n",
       "      <th></th>\n",
       "      <th>img_2</th>\n",
       "      <th>cos_sim</th>\n",
       "      <th>time</th>\n",
       "    </tr>\n",
       "  </thead>\n",
       "  <tbody>\n",
       "    <tr>\n",
       "      <th>0</th>\n",
       "      <td>1.jpg</td>\n",
       "      <td>0.621508</td>\n",
       "      <td>0.123224</td>\n",
       "    </tr>\n",
       "    <tr>\n",
       "      <th>1</th>\n",
       "      <td>2.jpg</td>\n",
       "      <td>0.625966</td>\n",
       "      <td>0.108740</td>\n",
       "    </tr>\n",
       "    <tr>\n",
       "      <th>2</th>\n",
       "      <td>3.jpg</td>\n",
       "      <td>0.596473</td>\n",
       "      <td>0.099964</td>\n",
       "    </tr>\n",
       "    <tr>\n",
       "      <th>3</th>\n",
       "      <td>4.jpg</td>\n",
       "      <td>0.786489</td>\n",
       "      <td>0.116575</td>\n",
       "    </tr>\n",
       "    <tr>\n",
       "      <th>4</th>\n",
       "      <td>5.jpg</td>\n",
       "      <td>0.631177</td>\n",
       "      <td>0.119626</td>\n",
       "    </tr>\n",
       "    <tr>\n",
       "      <th>5</th>\n",
       "      <td>6.jpg</td>\n",
       "      <td>0.352457</td>\n",
       "      <td>0.113519</td>\n",
       "    </tr>\n",
       "    <tr>\n",
       "      <th>6</th>\n",
       "      <td>7.jpg</td>\n",
       "      <td>0.674120</td>\n",
       "      <td>0.116653</td>\n",
       "    </tr>\n",
       "    <tr>\n",
       "      <th>7</th>\n",
       "      <td>8.jpg</td>\n",
       "      <td>0.678561</td>\n",
       "      <td>0.133218</td>\n",
       "    </tr>\n",
       "  </tbody>\n",
       "</table>\n",
       "</div>"
      ],
      "text/plain": [
       "   img_2   cos_sim      time\n",
       "0  1.jpg  0.621508  0.123224\n",
       "1  2.jpg  0.625966  0.108740\n",
       "2  3.jpg  0.596473  0.099964\n",
       "3  4.jpg  0.786489  0.116575\n",
       "4  5.jpg  0.631177  0.119626\n",
       "5  6.jpg  0.352457  0.113519\n",
       "6  7.jpg  0.674120  0.116653\n",
       "7  8.jpg  0.678561  0.133218"
      ]
     },
     "execution_count": 41,
     "metadata": {},
     "output_type": "execute_result"
    }
   ],
   "source": [
    "open_face_res = compare_imgs(\"OpenFace\", local_image_path)\n",
    "open_face_res"
   ]
  },
  {
   "cell_type": "code",
   "execution_count": 42,
   "id": "ab4b29bd-5af6-4623-97a0-ccdef941ac80",
   "metadata": {},
   "outputs": [
    {
     "data": {
      "text/html": [
       "<div>\n",
       "<style scoped>\n",
       "    .dataframe tbody tr th:only-of-type {\n",
       "        vertical-align: middle;\n",
       "    }\n",
       "\n",
       "    .dataframe tbody tr th {\n",
       "        vertical-align: top;\n",
       "    }\n",
       "\n",
       "    .dataframe thead th {\n",
       "        text-align: right;\n",
       "    }\n",
       "</style>\n",
       "<table border=\"1\" class=\"dataframe\">\n",
       "  <thead>\n",
       "    <tr style=\"text-align: right;\">\n",
       "      <th></th>\n",
       "      <th>img_2</th>\n",
       "      <th>cos_sim</th>\n",
       "      <th>time</th>\n",
       "    </tr>\n",
       "  </thead>\n",
       "  <tbody>\n",
       "    <tr>\n",
       "      <th>0</th>\n",
       "      <td>1.jpg</td>\n",
       "      <td>0.977524</td>\n",
       "      <td>0.038991</td>\n",
       "    </tr>\n",
       "    <tr>\n",
       "      <th>1</th>\n",
       "      <td>2.jpg</td>\n",
       "      <td>0.919044</td>\n",
       "      <td>0.042475</td>\n",
       "    </tr>\n",
       "    <tr>\n",
       "      <th>2</th>\n",
       "      <td>3.jpg</td>\n",
       "      <td>0.919890</td>\n",
       "      <td>0.029066</td>\n",
       "    </tr>\n",
       "    <tr>\n",
       "      <th>3</th>\n",
       "      <td>4.jpg</td>\n",
       "      <td>0.973824</td>\n",
       "      <td>0.042246</td>\n",
       "    </tr>\n",
       "    <tr>\n",
       "      <th>4</th>\n",
       "      <td>5.jpg</td>\n",
       "      <td>0.980442</td>\n",
       "      <td>0.043900</td>\n",
       "    </tr>\n",
       "    <tr>\n",
       "      <th>5</th>\n",
       "      <td>6.jpg</td>\n",
       "      <td>0.790755</td>\n",
       "      <td>0.040056</td>\n",
       "    </tr>\n",
       "    <tr>\n",
       "      <th>6</th>\n",
       "      <td>7.jpg</td>\n",
       "      <td>0.889377</td>\n",
       "      <td>0.039062</td>\n",
       "    </tr>\n",
       "    <tr>\n",
       "      <th>7</th>\n",
       "      <td>8.jpg</td>\n",
       "      <td>0.975122</td>\n",
       "      <td>0.057970</td>\n",
       "    </tr>\n",
       "  </tbody>\n",
       "</table>\n",
       "</div>"
      ],
      "text/plain": [
       "   img_2   cos_sim      time\n",
       "0  1.jpg  0.977524  0.038991\n",
       "1  2.jpg  0.919044  0.042475\n",
       "2  3.jpg  0.919890  0.029066\n",
       "3  4.jpg  0.973824  0.042246\n",
       "4  5.jpg  0.980442  0.043900\n",
       "5  6.jpg  0.790755  0.040056\n",
       "6  7.jpg  0.889377  0.039062\n",
       "7  8.jpg  0.975122  0.057970"
      ]
     },
     "execution_count": 42,
     "metadata": {},
     "output_type": "execute_result"
    }
   ],
   "source": [
    "deep_id_res = compare_imgs(\"DeepID\", local_image_path)\n",
    "deep_id_res"
   ]
  },
  {
   "cell_type": "code",
   "execution_count": 45,
   "id": "7bb5da08-9023-4a20-abcd-6fc56cc4ace1",
   "metadata": {},
   "outputs": [
    {
     "data": {
      "text/html": [
       "<div>\n",
       "<style scoped>\n",
       "    .dataframe tbody tr th:only-of-type {\n",
       "        vertical-align: middle;\n",
       "    }\n",
       "\n",
       "    .dataframe tbody tr th {\n",
       "        vertical-align: top;\n",
       "    }\n",
       "\n",
       "    .dataframe thead th {\n",
       "        text-align: right;\n",
       "    }\n",
       "</style>\n",
       "<table border=\"1\" class=\"dataframe\">\n",
       "  <thead>\n",
       "    <tr style=\"text-align: right;\">\n",
       "      <th></th>\n",
       "      <th>img_2</th>\n",
       "      <th>cos_sim</th>\n",
       "      <th>time</th>\n",
       "    </tr>\n",
       "  </thead>\n",
       "  <tbody>\n",
       "    <tr>\n",
       "      <th>0</th>\n",
       "      <td>1.jpg</td>\n",
       "      <td>0.736856</td>\n",
       "      <td>0.196290</td>\n",
       "    </tr>\n",
       "    <tr>\n",
       "      <th>1</th>\n",
       "      <td>2.jpg</td>\n",
       "      <td>0.583269</td>\n",
       "      <td>0.197044</td>\n",
       "    </tr>\n",
       "    <tr>\n",
       "      <th>2</th>\n",
       "      <td>3.jpg</td>\n",
       "      <td>0.531124</td>\n",
       "      <td>0.203160</td>\n",
       "    </tr>\n",
       "    <tr>\n",
       "      <th>3</th>\n",
       "      <td>4.jpg</td>\n",
       "      <td>0.803240</td>\n",
       "      <td>0.196977</td>\n",
       "    </tr>\n",
       "    <tr>\n",
       "      <th>4</th>\n",
       "      <td>5.jpg</td>\n",
       "      <td>0.731705</td>\n",
       "      <td>0.196247</td>\n",
       "    </tr>\n",
       "    <tr>\n",
       "      <th>5</th>\n",
       "      <td>6.jpg</td>\n",
       "      <td>0.651886</td>\n",
       "      <td>0.199785</td>\n",
       "    </tr>\n",
       "    <tr>\n",
       "      <th>6</th>\n",
       "      <td>7.jpg</td>\n",
       "      <td>0.633849</td>\n",
       "      <td>0.200263</td>\n",
       "    </tr>\n",
       "    <tr>\n",
       "      <th>7</th>\n",
       "      <td>8.jpg</td>\n",
       "      <td>0.673043</td>\n",
       "      <td>0.222380</td>\n",
       "    </tr>\n",
       "  </tbody>\n",
       "</table>\n",
       "</div>"
      ],
      "text/plain": [
       "   img_2   cos_sim      time\n",
       "0  1.jpg  0.736856  0.196290\n",
       "1  2.jpg  0.583269  0.197044\n",
       "2  3.jpg  0.531124  0.203160\n",
       "3  4.jpg  0.803240  0.196977\n",
       "4  5.jpg  0.731705  0.196247\n",
       "5  6.jpg  0.651886  0.199785\n",
       "6  7.jpg  0.633849  0.200263\n",
       "7  8.jpg  0.673043  0.222380"
      ]
     },
     "execution_count": 45,
     "metadata": {},
     "output_type": "execute_result"
    }
   ],
   "source": [
    "arc_face_res = compare_imgs(\"ArcFace\", local_image_path)\n",
    "arc_face_res"
   ]
  },
  {
   "cell_type": "code",
   "execution_count": 31,
   "id": "3e03050d-869a-44a1-8817-9292a597aa1f",
   "metadata": {},
   "outputs": [
    {
     "name": "stdout",
     "output_type": "stream",
     "text": [
      "25-03-05 04:05:23 - face_recognition_sface_2021dec.onnx weights will be downloaded...\n"
     ]
    },
    {
     "name": "stderr",
     "output_type": "stream",
     "text": [
      "Downloading...\n",
      "From: https://github.com/opencv/opencv_zoo/raw/main/models/face_recognition_sface/face_recognition_sface_2021dec.onnx\n",
      "To: C:\\Users\\serge\\.deepface\\weights\\face_recognition_sface_2021dec.onnx\n",
      "100%|██████████| 38.7M/38.7M [00:03<00:00, 9.76MB/s]\n"
     ]
    },
    {
     "data": {
      "text/html": [
       "<div>\n",
       "<style scoped>\n",
       "    .dataframe tbody tr th:only-of-type {\n",
       "        vertical-align: middle;\n",
       "    }\n",
       "\n",
       "    .dataframe tbody tr th {\n",
       "        vertical-align: top;\n",
       "    }\n",
       "\n",
       "    .dataframe thead th {\n",
       "        text-align: right;\n",
       "    }\n",
       "</style>\n",
       "<table border=\"1\" class=\"dataframe\">\n",
       "  <thead>\n",
       "    <tr style=\"text-align: right;\">\n",
       "      <th></th>\n",
       "      <th>img_2</th>\n",
       "      <th>cos_sim</th>\n",
       "      <th>time</th>\n",
       "    </tr>\n",
       "  </thead>\n",
       "  <tbody>\n",
       "    <tr>\n",
       "      <th>0</th>\n",
       "      <td>1.jpg</td>\n",
       "      <td>0.500815</td>\n",
       "      <td>0.049927</td>\n",
       "    </tr>\n",
       "    <tr>\n",
       "      <th>1</th>\n",
       "      <td>2.jpg</td>\n",
       "      <td>0.577125</td>\n",
       "      <td>0.049970</td>\n",
       "    </tr>\n",
       "    <tr>\n",
       "      <th>2</th>\n",
       "      <td>3.jpg</td>\n",
       "      <td>0.449707</td>\n",
       "      <td>0.049855</td>\n",
       "    </tr>\n",
       "    <tr>\n",
       "      <th>3</th>\n",
       "      <td>4.jpg</td>\n",
       "      <td>0.710185</td>\n",
       "      <td>0.040926</td>\n",
       "    </tr>\n",
       "    <tr>\n",
       "      <th>4</th>\n",
       "      <td>5.jpg</td>\n",
       "      <td>0.633875</td>\n",
       "      <td>0.054073</td>\n",
       "    </tr>\n",
       "    <tr>\n",
       "      <th>5</th>\n",
       "      <td>6.jpg</td>\n",
       "      <td>0.497414</td>\n",
       "      <td>0.045856</td>\n",
       "    </tr>\n",
       "    <tr>\n",
       "      <th>6</th>\n",
       "      <td>7.jpg</td>\n",
       "      <td>0.571472</td>\n",
       "      <td>0.042444</td>\n",
       "    </tr>\n",
       "    <tr>\n",
       "      <th>7</th>\n",
       "      <td>8.jpg</td>\n",
       "      <td>0.498756</td>\n",
       "      <td>0.066701</td>\n",
       "    </tr>\n",
       "  </tbody>\n",
       "</table>\n",
       "</div>"
      ],
      "text/plain": [
       "   img_2   cos_sim      time\n",
       "0  1.jpg  0.500815  0.049927\n",
       "1  2.jpg  0.577125  0.049970\n",
       "2  3.jpg  0.449707  0.049855\n",
       "3  4.jpg  0.710185  0.040926\n",
       "4  5.jpg  0.633875  0.054073\n",
       "5  6.jpg  0.497414  0.045856\n",
       "6  7.jpg  0.571472  0.042444\n",
       "7  8.jpg  0.498756  0.066701"
      ]
     },
     "execution_count": 31,
     "metadata": {},
     "output_type": "execute_result"
    }
   ],
   "source": [
    "SFace_res = compare_imgs(\"SFace\", local_image_path)\n",
    "SFace_res"
   ]
  },
  {
   "cell_type": "code",
   "execution_count": 33,
   "id": "182e6348-0ab7-4381-916a-9607a37a0cc0",
   "metadata": {},
   "outputs": [
    {
     "name": "stdout",
     "output_type": "stream",
     "text": [
      "25-03-05 04:05:52 - Pre-trained weights is downloaded from https://github.com/HamadYA/GhostFaceNets/releases/download/v1.2/GhostFaceNet_W1.3_S1_ArcFace.h5 to C:\\Users\\serge\\.deepface/weights/ghostfacenet_v1.h5\n"
     ]
    },
    {
     "name": "stderr",
     "output_type": "stream",
     "text": [
      "Downloading...\n",
      "From: https://github.com/HamadYA/GhostFaceNets/releases/download/v1.2/GhostFaceNet_W1.3_S1_ArcFace.h5\n",
      "To: C:\\Users\\serge\\.deepface\\weights\\ghostfacenet_v1.h5\n",
      "100%|██████████| 17.3M/17.3M [00:02<00:00, 7.68MB/s]\n"
     ]
    },
    {
     "name": "stdout",
     "output_type": "stream",
     "text": [
      "25-03-05 04:05:55 - Pre-trained weights is just downloaded to C:\\Users\\serge\\.deepface/weights/ghostfacenet_v1.h5\n"
     ]
    },
    {
     "data": {
      "text/html": [
       "<div>\n",
       "<style scoped>\n",
       "    .dataframe tbody tr th:only-of-type {\n",
       "        vertical-align: middle;\n",
       "    }\n",
       "\n",
       "    .dataframe tbody tr th {\n",
       "        vertical-align: top;\n",
       "    }\n",
       "\n",
       "    .dataframe thead th {\n",
       "        text-align: right;\n",
       "    }\n",
       "</style>\n",
       "<table border=\"1\" class=\"dataframe\">\n",
       "  <thead>\n",
       "    <tr style=\"text-align: right;\">\n",
       "      <th></th>\n",
       "      <th>img_2</th>\n",
       "      <th>cos_sim</th>\n",
       "      <th>time</th>\n",
       "    </tr>\n",
       "  </thead>\n",
       "  <tbody>\n",
       "    <tr>\n",
       "      <th>0</th>\n",
       "      <td>1.jpg</td>\n",
       "      <td>0.330522</td>\n",
       "      <td>0.200233</td>\n",
       "    </tr>\n",
       "    <tr>\n",
       "      <th>1</th>\n",
       "      <td>2.jpg</td>\n",
       "      <td>0.552727</td>\n",
       "      <td>0.216774</td>\n",
       "    </tr>\n",
       "    <tr>\n",
       "      <th>2</th>\n",
       "      <td>3.jpg</td>\n",
       "      <td>0.565779</td>\n",
       "      <td>0.215912</td>\n",
       "    </tr>\n",
       "    <tr>\n",
       "      <th>3</th>\n",
       "      <td>4.jpg</td>\n",
       "      <td>0.550898</td>\n",
       "      <td>0.234051</td>\n",
       "    </tr>\n",
       "    <tr>\n",
       "      <th>4</th>\n",
       "      <td>5.jpg</td>\n",
       "      <td>0.616968</td>\n",
       "      <td>0.248986</td>\n",
       "    </tr>\n",
       "    <tr>\n",
       "      <th>5</th>\n",
       "      <td>6.jpg</td>\n",
       "      <td>0.492213</td>\n",
       "      <td>0.216546</td>\n",
       "    </tr>\n",
       "    <tr>\n",
       "      <th>6</th>\n",
       "      <td>7.jpg</td>\n",
       "      <td>0.486151</td>\n",
       "      <td>0.199950</td>\n",
       "    </tr>\n",
       "    <tr>\n",
       "      <th>7</th>\n",
       "      <td>8.jpg</td>\n",
       "      <td>0.527255</td>\n",
       "      <td>0.216736</td>\n",
       "    </tr>\n",
       "  </tbody>\n",
       "</table>\n",
       "</div>"
      ],
      "text/plain": [
       "   img_2   cos_sim      time\n",
       "0  1.jpg  0.330522  0.200233\n",
       "1  2.jpg  0.552727  0.216774\n",
       "2  3.jpg  0.565779  0.215912\n",
       "3  4.jpg  0.550898  0.234051\n",
       "4  5.jpg  0.616968  0.248986\n",
       "5  6.jpg  0.492213  0.216546\n",
       "6  7.jpg  0.486151  0.199950\n",
       "7  8.jpg  0.527255  0.216736"
      ]
     },
     "execution_count": 33,
     "metadata": {},
     "output_type": "execute_result"
    }
   ],
   "source": [
    "ghost_res = compare_imgs(\"GhostFaceNet\", local_image_path)\n",
    "ghost_res"
   ]
  },
  {
   "cell_type": "code",
   "execution_count": 59,
   "id": "2f921d58-fc88-4ecd-8aed-29ccdabcd845",
   "metadata": {},
   "outputs": [
    {
     "data": {
      "text/html": [
       "<div>\n",
       "<style scoped>\n",
       "    .dataframe tbody tr th:only-of-type {\n",
       "        vertical-align: middle;\n",
       "    }\n",
       "\n",
       "    .dataframe tbody tr th {\n",
       "        vertical-align: top;\n",
       "    }\n",
       "\n",
       "    .dataframe thead th {\n",
       "        text-align: right;\n",
       "    }\n",
       "</style>\n",
       "<table border=\"1\" class=\"dataframe\">\n",
       "  <thead>\n",
       "    <tr style=\"text-align: right;\">\n",
       "      <th></th>\n",
       "      <th>img</th>\n",
       "      <th>status</th>\n",
       "      <th>vgg_res</th>\n",
       "      <th>face_net_res</th>\n",
       "      <th>face_net_512_res</th>\n",
       "      <th>open_face_res</th>\n",
       "      <th>deep_id_res</th>\n",
       "      <th>arc_face_res</th>\n",
       "      <th>SFace_res</th>\n",
       "      <th>ghost_res</th>\n",
       "    </tr>\n",
       "  </thead>\n",
       "  <tbody>\n",
       "    <tr>\n",
       "      <th>0</th>\n",
       "      <td>1.jpg</td>\n",
       "      <td>0</td>\n",
       "      <td>0.619067</td>\n",
       "      <td>0.795937</td>\n",
       "      <td>0.810955</td>\n",
       "      <td>0.621508</td>\n",
       "      <td>0.977524</td>\n",
       "      <td>0.736856</td>\n",
       "      <td>0.500815</td>\n",
       "      <td>0.330522</td>\n",
       "    </tr>\n",
       "    <tr>\n",
       "      <th>1</th>\n",
       "      <td>2.jpg</td>\n",
       "      <td>1</td>\n",
       "      <td>0.608000</td>\n",
       "      <td>0.666713</td>\n",
       "      <td>0.695080</td>\n",
       "      <td>0.625966</td>\n",
       "      <td>0.919044</td>\n",
       "      <td>0.583269</td>\n",
       "      <td>0.577125</td>\n",
       "      <td>0.552727</td>\n",
       "    </tr>\n",
       "    <tr>\n",
       "      <th>2</th>\n",
       "      <td>3.jpg</td>\n",
       "      <td>1</td>\n",
       "      <td>0.430599</td>\n",
       "      <td>0.698489</td>\n",
       "      <td>0.679240</td>\n",
       "      <td>0.596473</td>\n",
       "      <td>0.919890</td>\n",
       "      <td>0.531124</td>\n",
       "      <td>0.449707</td>\n",
       "      <td>0.565779</td>\n",
       "    </tr>\n",
       "    <tr>\n",
       "      <th>3</th>\n",
       "      <td>4.jpg</td>\n",
       "      <td>0</td>\n",
       "      <td>0.557660</td>\n",
       "      <td>0.807505</td>\n",
       "      <td>0.809689</td>\n",
       "      <td>0.786489</td>\n",
       "      <td>0.973824</td>\n",
       "      <td>0.803240</td>\n",
       "      <td>0.710185</td>\n",
       "      <td>0.550898</td>\n",
       "    </tr>\n",
       "    <tr>\n",
       "      <th>4</th>\n",
       "      <td>5.jpg</td>\n",
       "      <td>0</td>\n",
       "      <td>0.622190</td>\n",
       "      <td>0.842795</td>\n",
       "      <td>0.870042</td>\n",
       "      <td>0.631177</td>\n",
       "      <td>0.980442</td>\n",
       "      <td>0.731705</td>\n",
       "      <td>0.633875</td>\n",
       "      <td>0.616968</td>\n",
       "    </tr>\n",
       "    <tr>\n",
       "      <th>5</th>\n",
       "      <td>6.jpg</td>\n",
       "      <td>1</td>\n",
       "      <td>0.440144</td>\n",
       "      <td>0.704719</td>\n",
       "      <td>0.825052</td>\n",
       "      <td>0.352457</td>\n",
       "      <td>0.790755</td>\n",
       "      <td>0.651886</td>\n",
       "      <td>0.497414</td>\n",
       "      <td>0.492213</td>\n",
       "    </tr>\n",
       "    <tr>\n",
       "      <th>6</th>\n",
       "      <td>7.jpg</td>\n",
       "      <td>1</td>\n",
       "      <td>0.518890</td>\n",
       "      <td>0.742352</td>\n",
       "      <td>0.809848</td>\n",
       "      <td>0.674120</td>\n",
       "      <td>0.889377</td>\n",
       "      <td>0.633849</td>\n",
       "      <td>0.571472</td>\n",
       "      <td>0.486151</td>\n",
       "    </tr>\n",
       "    <tr>\n",
       "      <th>7</th>\n",
       "      <td>8.jpg</td>\n",
       "      <td>1</td>\n",
       "      <td>0.539757</td>\n",
       "      <td>0.762128</td>\n",
       "      <td>0.825844</td>\n",
       "      <td>0.678561</td>\n",
       "      <td>0.975122</td>\n",
       "      <td>0.673043</td>\n",
       "      <td>0.498756</td>\n",
       "      <td>0.527255</td>\n",
       "    </tr>\n",
       "  </tbody>\n",
       "</table>\n",
       "</div>"
      ],
      "text/plain": [
       "     img  status   vgg_res  face_net_res  face_net_512_res  open_face_res  \\\n",
       "0  1.jpg       0  0.619067      0.795937          0.810955       0.621508   \n",
       "1  2.jpg       1  0.608000      0.666713          0.695080       0.625966   \n",
       "2  3.jpg       1  0.430599      0.698489          0.679240       0.596473   \n",
       "3  4.jpg       0  0.557660      0.807505          0.809689       0.786489   \n",
       "4  5.jpg       0  0.622190      0.842795          0.870042       0.631177   \n",
       "5  6.jpg       1  0.440144      0.704719          0.825052       0.352457   \n",
       "6  7.jpg       1  0.518890      0.742352          0.809848       0.674120   \n",
       "7  8.jpg       1  0.539757      0.762128          0.825844       0.678561   \n",
       "\n",
       "   deep_id_res  arc_face_res  SFace_res  ghost_res  \n",
       "0     0.977524      0.736856   0.500815   0.330522  \n",
       "1     0.919044      0.583269   0.577125   0.552727  \n",
       "2     0.919890      0.531124   0.449707   0.565779  \n",
       "3     0.973824      0.803240   0.710185   0.550898  \n",
       "4     0.980442      0.731705   0.633875   0.616968  \n",
       "5     0.790755      0.651886   0.497414   0.492213  \n",
       "6     0.889377      0.633849   0.571472   0.486151  \n",
       "7     0.975122      0.673043   0.498756   0.527255  "
      ]
     },
     "execution_count": 59,
     "metadata": {},
     "output_type": "execute_result"
    }
   ],
   "source": [
    "total_res = pd.DataFrame(columns = ['img', 'status', 'vgg_res', 'face_net_res', 'face_net_512_res', 'open_face_res', 'deep_id_res', \n",
    "                                    'arc_face_res', 'SFace_res', 'ghost_res'])\n",
    "total_res['img'] = vgg_res['img_2']\n",
    "total_res['status'] = [0, 1, 1, 0, 0, 1, 1, 1]\n",
    "total_res['vgg_res'] = vgg_res['cos_sim']\n",
    "total_res['face_net_res'] = face_net_res['cos_sim']\n",
    "total_res['face_net_512_res'] = face_net_512_res['cos_sim']\n",
    "total_res['open_face_res'] = open_face_res['cos_sim']\n",
    "total_res['deep_id_res'] = deep_id_res['cos_sim']\n",
    "total_res['arc_face_res'] = arc_face_res['cos_sim']\n",
    "total_res['SFace_res'] = SFace_res['cos_sim']\n",
    "total_res['ghost_res'] = ghost_res['cos_sim']\n",
    "\n",
    "total_res"
   ]
  },
  {
   "cell_type": "code",
   "execution_count": 61,
   "id": "53850d5a-39ce-4f29-aec7-e1151aae9e6f",
   "metadata": {},
   "outputs": [
    {
     "data": {
      "text/html": [
       "<div>\n",
       "<style scoped>\n",
       "    .dataframe tbody tr th:only-of-type {\n",
       "        vertical-align: middle;\n",
       "    }\n",
       "\n",
       "    .dataframe tbody tr th {\n",
       "        vertical-align: top;\n",
       "    }\n",
       "\n",
       "    .dataframe thead th {\n",
       "        text-align: right;\n",
       "    }\n",
       "</style>\n",
       "<table border=\"1\" class=\"dataframe\">\n",
       "  <thead>\n",
       "    <tr style=\"text-align: right;\">\n",
       "      <th></th>\n",
       "      <th>img</th>\n",
       "      <th>vgg_res</th>\n",
       "      <th>face_net_res</th>\n",
       "      <th>face_net_512_res</th>\n",
       "      <th>open_face_res</th>\n",
       "      <th>deep_id_res</th>\n",
       "      <th>arc_face_res</th>\n",
       "      <th>SFace_res</th>\n",
       "      <th>ghost_res</th>\n",
       "    </tr>\n",
       "  </thead>\n",
       "  <tbody>\n",
       "    <tr>\n",
       "      <th>0</th>\n",
       "      <td>1.jpg</td>\n",
       "      <td>0.283330</td>\n",
       "      <td>0.233232</td>\n",
       "      <td>0.249847</td>\n",
       "      <td>0.123224</td>\n",
       "      <td>0.038991</td>\n",
       "      <td>0.196290</td>\n",
       "      <td>0.049927</td>\n",
       "      <td>0.200233</td>\n",
       "    </tr>\n",
       "    <tr>\n",
       "      <th>1</th>\n",
       "      <td>2.jpg</td>\n",
       "      <td>0.321746</td>\n",
       "      <td>0.249881</td>\n",
       "      <td>0.255564</td>\n",
       "      <td>0.108740</td>\n",
       "      <td>0.042475</td>\n",
       "      <td>0.197044</td>\n",
       "      <td>0.049970</td>\n",
       "      <td>0.216774</td>\n",
       "    </tr>\n",
       "    <tr>\n",
       "      <th>2</th>\n",
       "      <td>3.jpg</td>\n",
       "      <td>0.302622</td>\n",
       "      <td>0.250910</td>\n",
       "      <td>0.236072</td>\n",
       "      <td>0.099964</td>\n",
       "      <td>0.029066</td>\n",
       "      <td>0.203160</td>\n",
       "      <td>0.049855</td>\n",
       "      <td>0.215912</td>\n",
       "    </tr>\n",
       "    <tr>\n",
       "      <th>3</th>\n",
       "      <td>4.jpg</td>\n",
       "      <td>0.325660</td>\n",
       "      <td>0.247659</td>\n",
       "      <td>0.241143</td>\n",
       "      <td>0.116575</td>\n",
       "      <td>0.042246</td>\n",
       "      <td>0.196977</td>\n",
       "      <td>0.040926</td>\n",
       "      <td>0.234051</td>\n",
       "    </tr>\n",
       "    <tr>\n",
       "      <th>4</th>\n",
       "      <td>5.jpg</td>\n",
       "      <td>0.288249</td>\n",
       "      <td>0.250927</td>\n",
       "      <td>0.249858</td>\n",
       "      <td>0.119626</td>\n",
       "      <td>0.043900</td>\n",
       "      <td>0.196247</td>\n",
       "      <td>0.054073</td>\n",
       "      <td>0.248986</td>\n",
       "    </tr>\n",
       "    <tr>\n",
       "      <th>5</th>\n",
       "      <td>6.jpg</td>\n",
       "      <td>0.344581</td>\n",
       "      <td>0.233027</td>\n",
       "      <td>0.241378</td>\n",
       "      <td>0.113519</td>\n",
       "      <td>0.040056</td>\n",
       "      <td>0.199785</td>\n",
       "      <td>0.045856</td>\n",
       "      <td>0.216546</td>\n",
       "    </tr>\n",
       "    <tr>\n",
       "      <th>6</th>\n",
       "      <td>7.jpg</td>\n",
       "      <td>0.283063</td>\n",
       "      <td>0.249872</td>\n",
       "      <td>0.244299</td>\n",
       "      <td>0.116653</td>\n",
       "      <td>0.039062</td>\n",
       "      <td>0.200263</td>\n",
       "      <td>0.042444</td>\n",
       "      <td>0.199950</td>\n",
       "    </tr>\n",
       "    <tr>\n",
       "      <th>7</th>\n",
       "      <td>8.jpg</td>\n",
       "      <td>0.300061</td>\n",
       "      <td>0.272656</td>\n",
       "      <td>0.265758</td>\n",
       "      <td>0.133218</td>\n",
       "      <td>0.057970</td>\n",
       "      <td>0.222380</td>\n",
       "      <td>0.066701</td>\n",
       "      <td>0.216736</td>\n",
       "    </tr>\n",
       "  </tbody>\n",
       "</table>\n",
       "</div>"
      ],
      "text/plain": [
       "     img   vgg_res  face_net_res  face_net_512_res  open_face_res  \\\n",
       "0  1.jpg  0.283330      0.233232          0.249847       0.123224   \n",
       "1  2.jpg  0.321746      0.249881          0.255564       0.108740   \n",
       "2  3.jpg  0.302622      0.250910          0.236072       0.099964   \n",
       "3  4.jpg  0.325660      0.247659          0.241143       0.116575   \n",
       "4  5.jpg  0.288249      0.250927          0.249858       0.119626   \n",
       "5  6.jpg  0.344581      0.233027          0.241378       0.113519   \n",
       "6  7.jpg  0.283063      0.249872          0.244299       0.116653   \n",
       "7  8.jpg  0.300061      0.272656          0.265758       0.133218   \n",
       "\n",
       "   deep_id_res  arc_face_res  SFace_res  ghost_res  \n",
       "0     0.038991      0.196290   0.049927   0.200233  \n",
       "1     0.042475      0.197044   0.049970   0.216774  \n",
       "2     0.029066      0.203160   0.049855   0.215912  \n",
       "3     0.042246      0.196977   0.040926   0.234051  \n",
       "4     0.043900      0.196247   0.054073   0.248986  \n",
       "5     0.040056      0.199785   0.045856   0.216546  \n",
       "6     0.039062      0.200263   0.042444   0.199950  \n",
       "7     0.057970      0.222380   0.066701   0.216736  "
      ]
     },
     "execution_count": 61,
     "metadata": {},
     "output_type": "execute_result"
    }
   ],
   "source": [
    "total_res_time = pd.DataFrame(columns = ['img', 'vgg_res', 'face_net_res', 'face_net_512_res', 'open_face_res', 'deep_id_res', \n",
    "                                    'arc_face_res', 'SFace_res', 'ghost_res'])\n",
    "total_res_time['img'] = vgg_res['img_2']\n",
    "total_res_time['vgg_res'] = vgg_res['time']\n",
    "total_res_time['face_net_res'] = face_net_res['time']\n",
    "total_res_time['face_net_512_res'] = face_net_512_res['time']\n",
    "total_res_time['open_face_res'] = open_face_res['time']\n",
    "total_res_time['deep_id_res'] = deep_id_res['time']\n",
    "total_res_time['arc_face_res'] = arc_face_res['time']\n",
    "total_res_time['SFace_res'] = SFace_res['time']\n",
    "total_res_time['ghost_res'] = ghost_res['time']\n",
    "\n",
    "total_res_time"
   ]
  },
  {
   "cell_type": "markdown",
   "id": "5cad86a5-debe-4f20-b905-fa47b30df575",
   "metadata": {},
   "source": [
    "##### В целом, все модели оценивали Real vs Fake ниже, чем Real vs Real. Возможно, можно это использовать - в модели есть параметр threshold.\n",
    "Наивысшие cos_sim показал deep_id_res, он же был самым быстрым. Попробуем сделать выгрузку на нем. "
   ]
  },
  {
   "cell_type": "markdown",
   "id": "998df729-0e5b-49c1-8c04-ecb3f77a8389",
   "metadata": {},
   "source": [
    "### Inference on pretrained DeepFace: deep_id_res"
   ]
  },
  {
   "cell_type": "code",
   "execution_count": 68,
   "id": "0bf4fb17-c0c2-49c2-9dee-8a9ce2ce19b5",
   "metadata": {},
   "outputs": [
    {
     "data": {
      "text/plain": [
       "'00000000'"
      ]
     },
     "execution_count": 68,
     "metadata": {},
     "output_type": "execute_result"
    }
   ],
   "source": [
    "ssd_path = r'F:\\Codenrock\\Kryptonite\\data\\test_public\\images'\n",
    "ssd_list_dir = os.listdir(ssd_path)\n",
    "ssd_list_dir[0]"
   ]
  },
  {
   "cell_type": "code",
   "execution_count": 79,
   "id": "7200b676-a7f6-4a45-b8f2-74531670e524",
   "metadata": {},
   "outputs": [
    {
     "name": "stdout",
     "output_type": "stream",
     "text": [
      "Current time: 00000000  0.1233069896697998\n",
      "Current time: 00001000  99.38783764839172\n",
      "Current time: 00002000  99.2624900341034\n",
      "Current time: 00003000  100.33959436416626\n",
      "Current time: 00004000  99.13906502723694\n",
      "Current time: 00005000  103.79435133934021\n",
      "Current time: 00006000  103.86499977111816\n",
      "Current time: 00007000  102.40512251853943\n",
      "Current time: 00008000  100.63918590545654\n",
      "Current time: 00009000  102.40499877929688\n",
      "Current time: 00010000  103.05476927757263\n",
      "Current time: 00011000  102.80469465255737\n",
      "Current time: 00012000  107.45202708244324\n",
      "Current time: 00013000  103.55402636528015\n",
      "Current time: 00014000  105.6198673248291\n",
      "Current time: 00015000  105.00326585769653\n",
      "Current time: 00016000  103.93748831748962\n",
      "Current time: 00017000  105.56974530220032\n",
      "Current time: 00018000  102.5714328289032\n",
      "Current time: 00019000  106.6368842124939\n",
      "Current time: 00020000  101.1949052810669\n",
      "Current time: 00021000  107.94578671455383\n",
      "Current time: 00022000  105.37068367004395\n",
      "Current time: 00023000  106.25429511070251\n",
      "Current time: 00024000  103.316645860672\n",
      "Current time: 00025000  103.10442066192627\n",
      "Current time: 00026000  106.81531071662903\n",
      "Current time: 00027000  108.48472189903259\n",
      "Current time: 00028000  108.10168051719666\n",
      "Current time: 00029000  102.354811668396\n",
      "Current time: 00030000  106.53463578224182\n",
      "Current time: 00031000  103.12638854980469\n",
      "Current time: 00032000  158.00009942054749\n",
      "Current time: 00033000  108.55667400360107\n",
      "Current time: 00034000  107.38624382019043\n",
      "Current time: 00035000  108.18647718429565\n",
      "Current time: 00036000  114.4796736240387\n",
      "Current time: 00037000  110.77255272865295\n",
      "Current time: 00038000  121.61572313308716\n",
      "Current time: 00039000  121.9488742351532\n",
      "Current time: 00040000  127.32107925415039\n",
      "Current time: 00041000  126.69277048110962\n",
      "Current time: 00042000  123.08841943740845\n",
      "Current time: 00043000  118.26818752288818\n",
      "Current time: 00044000  131.4256842136383\n",
      "Current time: 00045000  134.0457320213318\n",
      "Current time: 00046000  120.72572827339172\n",
      "Current time: 00047000  127.13020443916321\n",
      "Current time: 00048000  129.52618098258972\n",
      "Current time: 00049000  118.49946546554565\n",
      "Current time: 00050000  121.67467713356018\n",
      "Current time: 00051000  124.89723825454712\n",
      "Current time: 00052000  122.34832668304443\n",
      "Current time: 00053000  125.88123226165771\n",
      "Current time: 00054000  132.53324031829834\n",
      "Current time: 00055000  130.92506194114685\n",
      "Current time: 00056000  125.41025567054749\n",
      "Current time: 00057000  132.3612608909607\n",
      "Current time: 00058000  130.58903169631958\n",
      "Current time: 00059000  123.99727439880371\n",
      "Current time: 00060000  125.31224608421326\n",
      "Current time: 00061000  128.82425594329834\n",
      "Current time: 00062000  129.1107850074768\n",
      "Current time: 00063000  146.13147902488708\n",
      "Current time: 00064000  153.6378002166748\n",
      "Current time: 00065000  144.92114663124084\n",
      "Current time: 00066000  119.43393182754517\n",
      "Current time: 00067000  134.53066182136536\n",
      "Current time: 00068000  132.80214262008667\n",
      "Current time: 00069000  147.98188138008118\n",
      "Current time: 00070000  133.7707462310791\n",
      "Current time: 00071000  138.90166521072388\n",
      "Current time: 00072000  132.43990302085876\n",
      "Current time: 00073000  129.29520344734192\n",
      "Current time: 00074000  134.81095218658447\n",
      "Current time: 00075000  130.6655511856079\n",
      "Current time: 00076000  131.8844974040985\n",
      "Current time: 00077000  143.0942895412445\n",
      "Current time: 00078000  131.21286725997925\n",
      "Current time: 00079000  132.89271330833435\n",
      "Current time: 00080000  146.60615849494934\n",
      "Current time: 00081000  129.7505874633789\n",
      "Current time: 00082000  128.57995915412903\n",
      "Current time: 00083000  140.54880094528198\n",
      "Current time: 00084000  128.86897134780884\n",
      "Current time: 00085000  116.42783570289612\n",
      "Current time: 00086000  114.53906393051147\n",
      "Current time: 00087000  115.01841354370117\n",
      "Current time: 00088000  115.34742021560669\n",
      "Current time: 00089000  113.88955783843994\n",
      "Current time: 00090000  116.66645812988281\n",
      "Current time: 00091000  114.68182921409607\n",
      "Current time: 00092000  114.77734661102295\n",
      "Current time: 00093000  114.9356005191803\n",
      "Current time: 00094000  119.36915826797485\n",
      "Current time: 00095000  117.58168458938599\n",
      "Current time: 00096000  119.53185439109802\n",
      "Current time: 00097000  117.1158995628357\n",
      "Current time: 00098000  117.82966494560242\n",
      "Current time: 00099000  122.18915891647339\n",
      "Current time: 00100000  118.3154444694519\n",
      "Current time: 00101000  118.97918558120728\n",
      "Current time: 00102000  116.7035710811615\n",
      "Current time: 00103000  121.10132575035095\n",
      "Current time: 00104000  118.53055667877197\n",
      "Current time: 00105000  120.25840926170349\n",
      "Current time: 00106000  120.55447554588318\n",
      "Current time: 00107000  118.38481640815735\n",
      "Current time: 00108000  120.40970373153687\n",
      "Current time: 00109000  119.97281742095947\n",
      "Current time: 00110000  117.5950014591217\n",
      "Current time: 00111000  117.13452172279358\n",
      "Current time: 00112000  119.20963096618652\n",
      "Current time: 00113000  120.91011452674866\n",
      "Current time: 00114000  121.2243983745575\n",
      "Current time: 00115000  120.41324830055237\n",
      "Current time: 00116000  121.32768678665161\n",
      "Current time: 00117000  120.05001425743103\n",
      "Current time: 00118000  120.92815470695496\n",
      "Current time: 00119000  125.18754410743713\n",
      "Current time: 00120000  121.31916236877441\n",
      "Current time: 00121000  121.83661317825317\n",
      "Current time: 00122000  125.40806460380554\n",
      "Current time: 00123000  125.2668342590332\n",
      "Current time: 00124000  122.95848965644836\n",
      "Current time: 00125000  122.35382199287415\n",
      "Current time: 00126000  122.78379416465759\n",
      "Current time: 00127000  122.47580313682556\n",
      "Current time: 00128000  124.13727021217346\n",
      "Current time: 00129000  124.30808329582214\n",
      "Current time: 00130000  122.78582811355591\n",
      "Current time: 00131000  125.3109941482544\n",
      "Current time: 00132000  123.63481187820435\n",
      "Current time: 00133000  122.4289710521698\n",
      "Current time: 00134000  126.51185703277588\n",
      "Current time: 00135000  127.58695673942566\n",
      "Current time: 00136000  124.50318551063538\n",
      "Current time: 00137000  125.19201993942261\n",
      "Current time: 00138000  126.29087901115417\n",
      "Current time: 00139000  125.20193576812744\n",
      "Current time: 00140000  124.5136866569519\n",
      "Current time: 00141000  123.30354833602905\n",
      "Current time: 00142000  124.398273229599\n",
      "Current time: 00143000  122.87474083900452\n",
      "Current time: 00144000  131.33744740486145\n",
      "Current time: 00145000  128.10861802101135\n",
      "Current time: 00146000  120.79952454566956\n",
      "Current time: 00147000  118.48990035057068\n",
      "Current time: 00148000  117.51980471611023\n",
      "Current time: 00149000  119.05195212364197\n",
      "Current time: 00150000  118.39859414100647\n",
      "Current time: 00151000  118.82046866416931\n",
      "Current time: 00152000  121.03564453125\n",
      "Current time: 00153000  120.06568741798401\n",
      "Current time: 00154000  122.42720079421997\n",
      "Current time: 00155000  123.28776907920837\n",
      "Current time: 00156000  122.7017548084259\n",
      "Current time: 00157000  123.89689779281616\n",
      "Current time: 00158000  122.8126871585846\n",
      "Current time: 00159000  123.89647316932678\n",
      "Current time: 00160000  125.33448529243469\n",
      "Current time: 00161000  123.34081530570984\n",
      "Inference time:  19423.72913956642\n"
     ]
    }
   ],
   "source": [
    "cos_sims = []\n",
    "start_time = time.time()\n",
    "beg_time = start_time\n",
    "for folder in ssd_list_dir:    \n",
    "    image_path = os.path.join(ssd_path, folder)\n",
    "    embedding_objs = DeepFace.represent(img_path = os.path.join(image_path, \"0.jpg\"), enforce_detection = False, model_name = 'DeepID')\n",
    "    for embedding_obj in embedding_objs:\n",
    "      embedding_0 = np.array(embedding_obj[\"embedding\"])    \n",
    "    embedding_objs = DeepFace.represent(img_path = os.path.join(image_path, \"1.jpg\"), enforce_detection = False, model_name = 'DeepID')    \n",
    "    for embedding_obj in embedding_objs:\n",
    "      embedding_1 = np.array(embedding_obj[\"embedding\"])    \n",
    "    sim_scores = cosine_similarity(embedding_0.reshape(1, -1), embedding_1.reshape(1, -1))\n",
    "    cos_sims.append([folder, sim_scores])\n",
    "    if int(folder) % 1000 == 0:\n",
    "        print(f'Current time: {folder} ', time.time() - beg_time)  \n",
    "        beg_time = time.time()\n",
    "\n",
    "end_time = time.time()\n",
    "print('Inference time: ', end_time - start_time)"
   ]
  },
  {
   "cell_type": "code",
   "execution_count": 83,
   "id": "568d51b4-d70d-45e6-ac08-2e4051b4b5e2",
   "metadata": {},
   "outputs": [
    {
     "data": {
      "text/plain": [
       "161191"
      ]
     },
     "execution_count": 83,
     "metadata": {},
     "output_type": "execute_result"
    }
   ],
   "source": [
    "len(cos_sims)"
   ]
  },
  {
   "cell_type": "code",
   "execution_count": 87,
   "id": "cca95539-478e-4d56-96fa-f29f6a84d54b",
   "metadata": {},
   "outputs": [
    {
     "data": {
      "text/html": [
       "<div>\n",
       "<style scoped>\n",
       "    .dataframe tbody tr th:only-of-type {\n",
       "        vertical-align: middle;\n",
       "    }\n",
       "\n",
       "    .dataframe tbody tr th {\n",
       "        vertical-align: top;\n",
       "    }\n",
       "\n",
       "    .dataframe thead th {\n",
       "        text-align: right;\n",
       "    }\n",
       "</style>\n",
       "<table border=\"1\" class=\"dataframe\">\n",
       "  <thead>\n",
       "    <tr style=\"text-align: right;\">\n",
       "      <th></th>\n",
       "      <th>pair_id</th>\n",
       "      <th>similarity</th>\n",
       "    </tr>\n",
       "  </thead>\n",
       "  <tbody>\n",
       "    <tr>\n",
       "      <th>0</th>\n",
       "      <td>00000000</td>\n",
       "      <td>[[1.0]]</td>\n",
       "    </tr>\n",
       "    <tr>\n",
       "      <th>1</th>\n",
       "      <td>00000001</td>\n",
       "      <td>[[0.8499120443980509]]</td>\n",
       "    </tr>\n",
       "    <tr>\n",
       "      <th>2</th>\n",
       "      <td>00000002</td>\n",
       "      <td>[[0.7018126678136867]]</td>\n",
       "    </tr>\n",
       "    <tr>\n",
       "      <th>3</th>\n",
       "      <td>00000003</td>\n",
       "      <td>[[0.8081231677031278]]</td>\n",
       "    </tr>\n",
       "    <tr>\n",
       "      <th>4</th>\n",
       "      <td>00000004</td>\n",
       "      <td>[[0.869009833958676]]</td>\n",
       "    </tr>\n",
       "    <tr>\n",
       "      <th>...</th>\n",
       "      <td>...</td>\n",
       "      <td>...</td>\n",
       "    </tr>\n",
       "    <tr>\n",
       "      <th>161186</th>\n",
       "      <td>00161186</td>\n",
       "      <td>[[0.9814701313950365]]</td>\n",
       "    </tr>\n",
       "    <tr>\n",
       "      <th>161187</th>\n",
       "      <td>00161187</td>\n",
       "      <td>[[0.9503068789174927]]</td>\n",
       "    </tr>\n",
       "    <tr>\n",
       "      <th>161188</th>\n",
       "      <td>00161188</td>\n",
       "      <td>[[0.9558576937296217]]</td>\n",
       "    </tr>\n",
       "    <tr>\n",
       "      <th>161189</th>\n",
       "      <td>00161189</td>\n",
       "      <td>[[0.8838035792604774]]</td>\n",
       "    </tr>\n",
       "    <tr>\n",
       "      <th>161190</th>\n",
       "      <td>00161190</td>\n",
       "      <td>[[0.9437423003905755]]</td>\n",
       "    </tr>\n",
       "  </tbody>\n",
       "</table>\n",
       "<p>161191 rows × 2 columns</p>\n",
       "</div>"
      ],
      "text/plain": [
       "         pair_id              similarity\n",
       "0       00000000                 [[1.0]]\n",
       "1       00000001  [[0.8499120443980509]]\n",
       "2       00000002  [[0.7018126678136867]]\n",
       "3       00000003  [[0.8081231677031278]]\n",
       "4       00000004   [[0.869009833958676]]\n",
       "...          ...                     ...\n",
       "161186  00161186  [[0.9814701313950365]]\n",
       "161187  00161187  [[0.9503068789174927]]\n",
       "161188  00161188  [[0.9558576937296217]]\n",
       "161189  00161189  [[0.8838035792604774]]\n",
       "161190  00161190  [[0.9437423003905755]]\n",
       "\n",
       "[161191 rows x 2 columns]"
      ]
     },
     "execution_count": 87,
     "metadata": {},
     "output_type": "execute_result"
    }
   ],
   "source": [
    "preds = pd.DataFrame(cos_sims, columns = ['pair_id', 'similarity'])\n",
    "preds"
   ]
  },
  {
   "cell_type": "code",
   "execution_count": 101,
   "id": "88c5b79e-e996-4d43-9e70-a0b7304de05f",
   "metadata": {},
   "outputs": [],
   "source": [
    "sim_np = preds['similarity']\n",
    "sim_single = []\n",
    "for sim in sim_np:\n",
    "    sim_single.append(sim[0][0])"
   ]
  },
  {
   "cell_type": "code",
   "execution_count": 105,
   "id": "e3cc4a28-2e93-4165-accc-b0a8a7592950",
   "metadata": {},
   "outputs": [
    {
     "data": {
      "text/html": [
       "<div>\n",
       "<style scoped>\n",
       "    .dataframe tbody tr th:only-of-type {\n",
       "        vertical-align: middle;\n",
       "    }\n",
       "\n",
       "    .dataframe tbody tr th {\n",
       "        vertical-align: top;\n",
       "    }\n",
       "\n",
       "    .dataframe thead th {\n",
       "        text-align: right;\n",
       "    }\n",
       "</style>\n",
       "<table border=\"1\" class=\"dataframe\">\n",
       "  <thead>\n",
       "    <tr style=\"text-align: right;\">\n",
       "      <th></th>\n",
       "      <th>pair_id</th>\n",
       "      <th>similarity</th>\n",
       "    </tr>\n",
       "  </thead>\n",
       "  <tbody>\n",
       "    <tr>\n",
       "      <th>0</th>\n",
       "      <td>00000000</td>\n",
       "      <td>1.000000</td>\n",
       "    </tr>\n",
       "    <tr>\n",
       "      <th>1</th>\n",
       "      <td>00000001</td>\n",
       "      <td>0.849912</td>\n",
       "    </tr>\n",
       "    <tr>\n",
       "      <th>2</th>\n",
       "      <td>00000002</td>\n",
       "      <td>0.701813</td>\n",
       "    </tr>\n",
       "    <tr>\n",
       "      <th>3</th>\n",
       "      <td>00000003</td>\n",
       "      <td>0.808123</td>\n",
       "    </tr>\n",
       "    <tr>\n",
       "      <th>4</th>\n",
       "      <td>00000004</td>\n",
       "      <td>0.869010</td>\n",
       "    </tr>\n",
       "    <tr>\n",
       "      <th>...</th>\n",
       "      <td>...</td>\n",
       "      <td>...</td>\n",
       "    </tr>\n",
       "    <tr>\n",
       "      <th>161186</th>\n",
       "      <td>00161186</td>\n",
       "      <td>0.981470</td>\n",
       "    </tr>\n",
       "    <tr>\n",
       "      <th>161187</th>\n",
       "      <td>00161187</td>\n",
       "      <td>0.950307</td>\n",
       "    </tr>\n",
       "    <tr>\n",
       "      <th>161188</th>\n",
       "      <td>00161188</td>\n",
       "      <td>0.955858</td>\n",
       "    </tr>\n",
       "    <tr>\n",
       "      <th>161189</th>\n",
       "      <td>00161189</td>\n",
       "      <td>0.883804</td>\n",
       "    </tr>\n",
       "    <tr>\n",
       "      <th>161190</th>\n",
       "      <td>00161190</td>\n",
       "      <td>0.943742</td>\n",
       "    </tr>\n",
       "  </tbody>\n",
       "</table>\n",
       "<p>161191 rows × 2 columns</p>\n",
       "</div>"
      ],
      "text/plain": [
       "         pair_id  similarity\n",
       "0       00000000    1.000000\n",
       "1       00000001    0.849912\n",
       "2       00000002    0.701813\n",
       "3       00000003    0.808123\n",
       "4       00000004    0.869010\n",
       "...          ...         ...\n",
       "161186  00161186    0.981470\n",
       "161187  00161187    0.950307\n",
       "161188  00161188    0.955858\n",
       "161189  00161189    0.883804\n",
       "161190  00161190    0.943742\n",
       "\n",
       "[161191 rows x 2 columns]"
      ]
     },
     "execution_count": 105,
     "metadata": {},
     "output_type": "execute_result"
    }
   ],
   "source": [
    "preds['similarity'] = sim_single\n",
    "preds"
   ]
  },
  {
   "cell_type": "code",
   "execution_count": 109,
   "id": "9e2cadc8-69de-43ab-8f0d-4621f7b77d47",
   "metadata": {},
   "outputs": [],
   "source": [
    "preds.to_csv('submission_v0.csv', index = False)"
   ]
  },
  {
   "cell_type": "code",
   "execution_count": 111,
   "id": "b14ffbfc-bf3f-4604-a741-15e41743937e",
   "metadata": {},
   "outputs": [
    {
     "data": {
      "text/html": [
       "<div>\n",
       "<style scoped>\n",
       "    .dataframe tbody tr th:only-of-type {\n",
       "        vertical-align: middle;\n",
       "    }\n",
       "\n",
       "    .dataframe tbody tr th {\n",
       "        vertical-align: top;\n",
       "    }\n",
       "\n",
       "    .dataframe thead th {\n",
       "        text-align: right;\n",
       "    }\n",
       "</style>\n",
       "<table border=\"1\" class=\"dataframe\">\n",
       "  <thead>\n",
       "    <tr style=\"text-align: right;\">\n",
       "      <th></th>\n",
       "      <th>pair_id</th>\n",
       "      <th>similarity</th>\n",
       "    </tr>\n",
       "  </thead>\n",
       "  <tbody>\n",
       "    <tr>\n",
       "      <th>21589</th>\n",
       "      <td>00021589</td>\n",
       "      <td>0.491716</td>\n",
       "    </tr>\n",
       "    <tr>\n",
       "      <th>58591</th>\n",
       "      <td>00058591</td>\n",
       "      <td>0.417575</td>\n",
       "    </tr>\n",
       "    <tr>\n",
       "      <th>58607</th>\n",
       "      <td>00058607</td>\n",
       "      <td>0.430657</td>\n",
       "    </tr>\n",
       "    <tr>\n",
       "      <th>91027</th>\n",
       "      <td>00091027</td>\n",
       "      <td>0.362581</td>\n",
       "    </tr>\n",
       "    <tr>\n",
       "      <th>91050</th>\n",
       "      <td>00091050</td>\n",
       "      <td>0.439927</td>\n",
       "    </tr>\n",
       "    <tr>\n",
       "      <th>102837</th>\n",
       "      <td>00102837</td>\n",
       "      <td>0.426483</td>\n",
       "    </tr>\n",
       "    <tr>\n",
       "      <th>102860</th>\n",
       "      <td>00102860</td>\n",
       "      <td>0.488667</td>\n",
       "    </tr>\n",
       "    <tr>\n",
       "      <th>135237</th>\n",
       "      <td>00135237</td>\n",
       "      <td>0.477057</td>\n",
       "    </tr>\n",
       "    <tr>\n",
       "      <th>146018</th>\n",
       "      <td>00146018</td>\n",
       "      <td>0.470802</td>\n",
       "    </tr>\n",
       "    <tr>\n",
       "      <th>147637</th>\n",
       "      <td>00147637</td>\n",
       "      <td>0.411685</td>\n",
       "    </tr>\n",
       "    <tr>\n",
       "      <th>148470</th>\n",
       "      <td>00148470</td>\n",
       "      <td>0.489196</td>\n",
       "    </tr>\n",
       "    <tr>\n",
       "      <th>150494</th>\n",
       "      <td>00150494</td>\n",
       "      <td>0.469416</td>\n",
       "    </tr>\n",
       "    <tr>\n",
       "      <th>156594</th>\n",
       "      <td>00156594</td>\n",
       "      <td>0.455623</td>\n",
       "    </tr>\n",
       "  </tbody>\n",
       "</table>\n",
       "</div>"
      ],
      "text/plain": [
       "         pair_id  similarity\n",
       "21589   00021589    0.491716\n",
       "58591   00058591    0.417575\n",
       "58607   00058607    0.430657\n",
       "91027   00091027    0.362581\n",
       "91050   00091050    0.439927\n",
       "102837  00102837    0.426483\n",
       "102860  00102860    0.488667\n",
       "135237  00135237    0.477057\n",
       "146018  00146018    0.470802\n",
       "147637  00147637    0.411685\n",
       "148470  00148470    0.489196\n",
       "150494  00150494    0.469416\n",
       "156594  00156594    0.455623"
      ]
     },
     "execution_count": 111,
     "metadata": {},
     "output_type": "execute_result"
    }
   ],
   "source": [
    "preds.loc[preds['similarity']<0.5]"
   ]
  },
  {
   "cell_type": "markdown",
   "id": "efd31d66-0e6b-4fc3-8a23-6889f4d04356",
   "metadata": {},
   "source": [
    "##### Фотографий разных людей, по мнению модели, было 13:)"
   ]
  }
 ],
 "metadata": {
  "kernelspec": {
   "display_name": "Python 3 (ipykernel)",
   "language": "python",
   "name": "python3"
  },
  "language_info": {
   "codemirror_mode": {
    "name": "ipython",
    "version": 3
   },
   "file_extension": ".py",
   "mimetype": "text/x-python",
   "name": "python",
   "nbconvert_exporter": "python",
   "pygments_lexer": "ipython3",
   "version": "3.12.7"
  }
 },
 "nbformat": 4,
 "nbformat_minor": 5
}
